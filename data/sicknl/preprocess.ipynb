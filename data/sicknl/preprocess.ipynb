{
 "cells": [
  {
   "cell_type": "markdown",
   "id": "83c7115d",
   "metadata": {},
   "source": [
    "# Preprocessing the SICK-NL corpus\n",
    "This script preprocesses SICK-NL and serialises the result to the dev, train and test split."
   ]
  },
  {
   "cell_type": "markdown",
   "id": "1af117d8",
   "metadata": {},
   "source": [
    "## Inspecting the SICK-NL dataset"
   ]
  },
  {
   "cell_type": "code",
   "execution_count": 1,
   "id": "e7a7a878",
   "metadata": {},
   "outputs": [],
   "source": [
    "import csv\n",
    "\n",
    "def get_original_distribution(sicknl_tsv):\n",
    "    \"\"\"\n",
    "    Retrieves the distribution of entailment labels over 3 splits\n",
    "\n",
    "    :param sicknl_tsv: path to the original SICK-NL tsv\n",
    "    :return: the distribution of entailment labels over 3 splits\n",
    "    \"\"\"\n",
    "    entailment_train = neutral_train = contradiction_train = \\\n",
    "    entailment_trial = neutral_trial = contradiction_trial = \\\n",
    "    entailment_test = neutral_test = contradiction_test = 0\n",
    "    with open(sicknl_tsv, \"r\") as sicknl_tsv:\n",
    "        reader = csv.reader(sicknl_tsv, delimiter=\"\\t\")\n",
    "        next(reader)\n",
    "        for row in reader:\n",
    "            if row[3] == \"ENTAILMENT\":\n",
    "                if row[-1] == \"TRAIN\":\n",
    "                    entailment_train += 1\n",
    "                elif row[-1] == \"TRIAL\":\n",
    "                    entailment_trial += 1\n",
    "                else:\n",
    "                    entailment_test += 1\n",
    "            elif row[3] == \"NEUTRAL\":\n",
    "                if row[-1] == \"TRAIN\":\n",
    "                    neutral_train += 1\n",
    "                elif row[-1] == \"TRIAL\":\n",
    "                    neutral_trial += 1\n",
    "                else:\n",
    "                    neutral_test += 1\n",
    "            else:\n",
    "                if row[-1] == \"TRAIN\":\n",
    "                    contradiction_train += 1\n",
    "                elif row[-1] == \"TRIAL\":\n",
    "                    contradiction_trial += 1\n",
    "                else:\n",
    "                    contradiction_test += 1\n",
    "\n",
    "    return entailment_train, neutral_train, contradiction_train, \\\n",
    "    entailment_trial, neutral_trial, contradiction_trial, \\\n",
    "    entailment_test, neutral_test, contradiction_test"
   ]
  },
  {
   "cell_type": "code",
   "execution_count": 2,
   "id": "f52ff4dc",
   "metadata": {},
   "outputs": [
    {
     "data": {
      "text/plain": [
       "(1274, 2524, 641, 143, 281, 71, 1404, 2790, 712)"
      ]
     },
     "execution_count": 2,
     "metadata": {},
     "output_type": "execute_result"
    }
   ],
   "source": [
    "get_original_distribution('sicknl.tsv')"
   ]
  },
  {
   "cell_type": "markdown",
   "id": "fbfd3ad1",
   "metadata": {},
   "source": [
    "A two-way task is pursued. SICK-NL contains more cases where entailment does not hold (7,019; labelled NEUTRAL or CONTRADICTION) than cases where entailment does hold (2821; labelled ENTAILMENT). Only sentences that have been labelled as being neutral bidrectionally will be preserved in an atttempt to balance the entailment labels."
   ]
  },
  {
   "cell_type": "code",
   "execution_count": 3,
   "id": "60953cff",
   "metadata": {},
   "outputs": [],
   "source": [
    "def get_original_distribution(sicknl_tsv):\n",
    "    \"\"\"\n",
    "    Retrieves the distribution of cases where entailment does and \n",
    "    does not hold from the original SICK-NL tsv.\n",
    "\n",
    "    :param sicknl_tsv: path to the original SICK-NL tsv\n",
    "    :return: the number of cases where entailment holds (yes) and does not hold (no)\n",
    "    \"\"\"\n",
    "    yes = no = 0\n",
    "    with open(sicknl_tsv, \"r\") as sicknl_tsv:\n",
    "        reader = csv.reader(sicknl_tsv, delimiter=\"\\t\")\n",
    "        next(reader)\n",
    "        for row in reader:\n",
    "            if row[3] == \"ENTAILMENT\":\n",
    "                yes += 1\n",
    "            elif row[5] == \"A_neutral_B\" and row[6] == \"B_neutral_A\":\n",
    "                no += 1\n",
    "\n",
    "    return yes, no"
   ]
  },
  {
   "cell_type": "code",
   "execution_count": 4,
   "id": "a12f72f1",
   "metadata": {},
   "outputs": [
    {
     "data": {
      "text/plain": [
       "(2821, 4992)"
      ]
     },
     "execution_count": 4,
     "metadata": {},
     "output_type": "execute_result"
    }
   ],
   "source": [
    "get_original_distribution('sicknl.tsv')"
   ]
  },
  {
   "cell_type": "markdown",
   "id": "d916fd9f",
   "metadata": {},
   "source": [
    "However, this is not sufficient to balance the data. Additional steps will be needed."
   ]
  },
  {
   "cell_type": "markdown",
   "id": "87b6528e",
   "metadata": {},
   "source": [
    "## Converting the csv to a Python dictionary"
   ]
  },
  {
   "cell_type": "code",
   "execution_count": 5,
   "id": "0e31b2e2",
   "metadata": {},
   "outputs": [],
   "source": [
    "from collections import defaultdict\n",
    "\n",
    "\n",
    "def convert_to_dict(sicknl_tsv):\n",
    "    \"\"\"\n",
    "    Converts the original SICK-NL csv to a Python dictionary, converting \n",
    "    the entailment label to a binary label (YES for ENTAILMENT and NO for \n",
    "    pairs that have been labelled NEUTRAL bidirectionally).\n",
    "    \n",
    "    :param sicknl_tsv: path to the original SICK-NL tsv\n",
    "    :return: the SICK-NL dict\n",
    "    \"\"\"\n",
    "\n",
    "    sicknl = defaultdict(dict)\n",
    "    with open('sicknl.tsv', \"r\") as infile:\n",
    "        reader = csv.reader(infile, delimiter=\"\\t\")\n",
    "        header = next(reader)\n",
    "        # Make header consistent with RTE-3\n",
    "        header[1] = 't'\n",
    "        header[2] = 'h'\n",
    "        for row in reader:\n",
    "            # Convert from three-way to two-way\n",
    "            if row[3] == \"ENTAILMENT\":\n",
    "                row[3] = \"YES\"\n",
    "            elif row[5] == \"A_neutral_B\" and row[6] == \"B_neutral_A\":  \n",
    "                row[3] = \"NO\"  # Only consider sentences agreed bidirectionally as being neutral\n",
    "            else:\n",
    "                continue\n",
    "\n",
    "            # Convert dataset to dict\n",
    "            for i, col in enumerate(row[1:]):\n",
    "                sicknl[row[0]][header[i + 1]] = col\n",
    "                \n",
    "    return sicknl"
   ]
  },
  {
   "cell_type": "code",
   "execution_count": 6,
   "id": "92066a25",
   "metadata": {},
   "outputs": [],
   "source": [
    "sicknl = convert_to_dict('sicknl.tsv')"
   ]
  },
  {
   "cell_type": "markdown",
   "id": "8cfef395",
   "metadata": {},
   "source": [
    "## Randomising the dataset to randomly skip sentence pairs"
   ]
  },
  {
   "cell_type": "code",
   "execution_count": 7,
   "id": "6f335006",
   "metadata": {},
   "outputs": [],
   "source": [
    "import random\n",
    "\n",
    "def shuffle_sicknl(sicknl_dict):\n",
    "    \"\"\"\n",
    "    Shuffles the SICK-NL dict so that sentence pairs can randomly be \n",
    "    skipped to balance the dataset.\n",
    "    \n",
    "    :param sicknl_dict: dict of SICK-NL\n",
    "    :return: the shuffled SICK-NL dict\n",
    "    \"\"\"\n",
    "    \n",
    "    keys = list(sicknl_dict.keys())\n",
    "    random.Random(1).shuffle(keys)\n",
    "    return {key: sicknl_dict[key] for key in keys}"
   ]
  },
  {
   "cell_type": "code",
   "execution_count": 8,
   "id": "ccb7f95c",
   "metadata": {},
   "outputs": [],
   "source": [
    "sicknl_shuffled = shuffle_sicknl(sicknl)"
   ]
  },
  {
   "cell_type": "markdown",
   "id": "3fbad272",
   "metadata": {},
   "source": [
    "## Splitting the data into 3 sets"
   ]
  },
  {
   "cell_type": "code",
   "execution_count": 9,
   "id": "df2a84ed",
   "metadata": {},
   "outputs": [],
   "source": [
    "from math import ceil, floor\n",
    "\n",
    "def make_splits(dev_split, train_split):\n",
    "    \"\"\"\n",
    "    Divides the SICK-NL dict into two development sets and a test set where \n",
    "    each split consists of a 50-50 ratio between positive and negative pairs.\n",
    "    \n",
    "    :param dev_split: proportion of data to be assigned to the dev set\n",
    "    :param train_split: proportion of data to be assigned to the train set\n",
    "    :return: the SICK-NL dev, train and test split\n",
    "    \"\"\"\n",
    "    \n",
    "    orig_count_yes, orig_count_no = get_original_distribution('sicknl.tsv')\n",
    "    dev_count_no = dev_count_yes = train_count_yes = train_count_no = test_count_no = 0\n",
    "    dev = defaultdict(dict)\n",
    "    train = defaultdict(dict)\n",
    "    test = defaultdict(dict)\n",
    "    for pair_id, feats in dict(sicknl_shuffled).items():\n",
    "        if feats['entailment_label'] == \"YES\":\n",
    "            if dev_count_yes < ceil(orig_count_yes / 100 * dev_split):\n",
    "                dev[pair_id] = feats\n",
    "                dev_count_yes += 1\n",
    "            elif train_count_yes < floor(orig_count_yes / 100 * train_split):\n",
    "                train[pair_id] = feats\n",
    "                train_count_yes += 1\n",
    "            else:\n",
    "                test[pair_id] = feats\n",
    "        else:  # NO\n",
    "            if dev_count_no < ceil(orig_count_no / 100 * dev_split) and \\\n",
    "                     dev_count_no <= floor(orig_count_yes / 100 * dev_split):\n",
    "                dev[pair_id] = feats\n",
    "                dev_count_no += 1\n",
    "            elif train_count_no < floor(orig_count_no / 100 * train_split) and \\\n",
    "                     train_count_no < floor(orig_count_yes / 100 * train_split):\n",
    "                train[pair_id] = feats\n",
    "                train_count_no += 1\n",
    "            # Skip last negative sentence pairs to balance\n",
    "            elif test_count_no < floor(orig_count_yes / 100 * (100 - dev_split-train_split)):\n",
    "                test[pair_id] = feats\n",
    "                test_count_no += 1\n",
    "                \n",
    "    return dev, train, test"
   ]
  },
  {
   "cell_type": "code",
   "execution_count": 10,
   "id": "34c3b1fd",
   "metadata": {},
   "outputs": [],
   "source": [
    "dev, train, test = make_splits(60, 20)"
   ]
  },
  {
   "cell_type": "markdown",
   "id": "915a987f",
   "metadata": {},
   "source": [
    "## Verifying the splits"
   ]
  },
  {
   "cell_type": "code",
   "execution_count": 11,
   "id": "85fbba2f",
   "metadata": {},
   "outputs": [],
   "source": [
    "def get_new_distribution(sicknl_split):\n",
    "    \"\"\"\n",
    "    Retrieves the distribution of cases where entailment does and \n",
    "    does not hold divided over the dev, train and test set.\n",
    "\n",
    "    :param sicknl_split: a SICK-NL inference dict\n",
    "    :return: the number of cases where entailment holds and does not hold\n",
    "    \"\"\"\n",
    "    yes = no = 0\n",
    "    for feats in sicknl_split.values():\n",
    "        if feats['entailment_label'] == \"YES\":\n",
    "            yes += 1\n",
    "        else:  # NO\n",
    "            no += 1\n",
    "\n",
    "    return yes, no"
   ]
  },
  {
   "cell_type": "code",
   "execution_count": 12,
   "id": "5cba7f98",
   "metadata": {},
   "outputs": [
    {
     "name": "stdout",
     "output_type": "stream",
     "text": [
      "dev: (1693, 1693)\n",
      "train: (564, 564)\n",
      "test: (564, 564)\n"
     ]
    }
   ],
   "source": [
    "print('dev:', get_new_distribution(dev))\n",
    "print('train:', get_new_distribution(train))\n",
    "print('test:', get_new_distribution(test))"
   ]
  },
  {
   "cell_type": "markdown",
   "id": "b1b2e82f",
   "metadata": {},
   "source": [
    "## Geting average sentence length (in tokens)"
   ]
  },
  {
   "cell_type": "code",
   "execution_count": 13,
   "id": "3e4ebffe",
   "metadata": {},
   "outputs": [
    {
     "name": "stdout",
     "output_type": "stream",
     "text": [
      "Average t length: 9.1 tokens\n",
      "Average h length: 8.8 tokens\n"
     ]
    }
   ],
   "source": [
    "import spacy\n",
    "\n",
    "\n",
    "nlp = spacy.load('nl_core_news_lg')\n",
    "token_c_t = token_c_h = pair_c = 0\n",
    "for entry in {**dev, **train, **test}.values():\n",
    "    token_c_t += len([token.text for sent in nlp(entry['t']).sents for token in sent if not token.is_punct])\n",
    "    token_c_h += len([token.text for sent in nlp(entry['h']).sents for token in sent if not token.is_punct])\n",
    "    pair_c += 1\n",
    "    \n",
    "print(\"Average t length:\", round(token_c_t / pair_c, 1), \"tokens\")\n",
    "print(\"Average h length:\", round(token_c_h / pair_c, 1), \"tokens\")"
   ]
  },
  {
   "cell_type": "markdown",
   "id": "31e5a2b2",
   "metadata": {},
   "source": [
    "## Serialising the splits"
   ]
  },
  {
   "cell_type": "code",
   "execution_count": 14,
   "id": "af65a90f",
   "metadata": {},
   "outputs": [],
   "source": [
    "import pickle\n",
    "\n",
    "pickle.dump(dict(dev), open(\"dev.p\", \"wb\"))\n",
    "pickle.dump(dict(train), open(\"train.p\", \"wb\"))\n",
    "pickle.dump(dict(test), open(\"test.p\", \"wb\"))"
   ]
  }
 ],
 "metadata": {
  "kernelspec": {
   "display_name": "Python 3 (ipykernel)",
   "language": "python",
   "name": "python3"
  },
  "language_info": {
   "codemirror_mode": {
    "name": "ipython",
    "version": 3
   },
   "file_extension": ".py",
   "mimetype": "text/x-python",
   "name": "python",
   "nbconvert_exporter": "python",
   "pygments_lexer": "ipython3",
   "version": "3.8.10"
  }
 },
 "nbformat": 4,
 "nbformat_minor": 5
}
