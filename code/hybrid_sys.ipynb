{
 "cells": [
  {
   "cell_type": "markdown",
   "id": "3a9932aa",
   "metadata": {},
   "source": [
    "# Developing the classifiers"
   ]
  },
  {
   "cell_type": "markdown",
   "id": "8e3d56e7",
   "metadata": {},
   "source": [
    "## Retrieving cosine similarities"
   ]
  },
  {
   "cell_type": "code",
   "execution_count": 1,
   "id": "627cd3cc",
   "metadata": {},
   "outputs": [],
   "source": [
    "import sys\n",
    "import numpy as np\n",
    "from sklearn.metrics.pairwise import cosine_similarity\n",
    "from sklearn.metrics import accuracy_score\n",
    "from sklearn.metrics import f1_score\n",
    "from sklearn import preprocessing\n",
    "\n",
    "\n",
    "def get_cosim(dev_dict):\n",
    "    \"\"\"\n",
    "    Calculates cosine similarity for each t-h pair in a dev set.\n",
    "    \n",
    "    :param dev_dict: an inference dict\n",
    "    :return: list of all cosine similarities\n",
    "    \"\"\"\n",
    "    sims = []\n",
    "    for feats in dev_dict.values():\n",
    "        t_tokens = feats['t'].split()\n",
    "        h_tokens = feats['h'].split()\n",
    "\n",
    "        # Convert e.g. 'volleybal' in t to 'bal' in t if 'bal' in h\n",
    "        for h_token in h_tokens:\n",
    "            for i, t_token in enumerate(t_tokens):\n",
    "                if h_token != t_token and h_token in t_token:\n",
    "                    t_tokens[i] = h_token\n",
    "            \n",
    "        # Create BoW\n",
    "        th_tokens = set(t_tokens + h_tokens)\n",
    "        t_vector = [t_tokens.count(th_token) for th_token in th_tokens]\n",
    "        h_vector = [h_tokens.count(th_token) for th_token in th_tokens]\n",
    "        t_vector = preprocessing.normalize([t_vector], norm='l2')\n",
    "        h_vector = preprocessing.normalize([h_vector], norm='l2')\n",
    "            \n",
    "        # Calculate cosine similarity\n",
    "        cosim = round(cosine_similarity(t_vector, h_vector).item(), 3)\n",
    "        if ('geen' in t_tokens or 'niet' in t_tokens) and not \\\n",
    "          ('geen' in h_tokens or 'niet' in h_tokens) or \\\n",
    "          ('geen' in h_tokens or 'niet' in h_tokens) and not \\\n",
    "          ('geen' in t_tokens or 'niet' in t_tokens):\n",
    "            cosim = 0\n",
    "        sims.append(cosim)\n",
    "                \n",
    "    return(sims)"
   ]
  },
  {
   "cell_type": "markdown",
   "id": "1153dfbc",
   "metadata": {},
   "source": [
    "### Preprocessing SICK-NL\n",
    "As performed by the `preprocess` function."
   ]
  },
  {
   "cell_type": "code",
   "execution_count": 2,
   "id": "3c8c3486",
   "metadata": {},
   "outputs": [],
   "source": [
    "def preprocess(doc, nlp):\n",
    "    \"\"\"\n",
    "    Removes punctuation and stopwords and lemmatises words.\n",
    "\n",
    "    :param doc: document string\n",
    "    :param nlp: SpaCy pipeline\n",
    "    :return: the preprocessed document\n",
    "    \"\"\"\n",
    "    \n",
    "    nlp.Defaults.stop_words -= {\"geen\", \"niet\"}\n",
    "    doc = nlp(doc)\n",
    "    cleaned = []\n",
    "    for token in doc:\n",
    "        if not token.is_punct and token.lemma_ not in nlp.Defaults.stop_words:\n",
    "            cleaned.append(token.lemma_)\n",
    "    return \" \".join(cleaned)"
   ]
  },
  {
   "cell_type": "code",
   "execution_count": 3,
   "id": "59a06405",
   "metadata": {},
   "outputs": [],
   "source": [
    "import pickle\n",
    "import spacy\n",
    "\n",
    "nlp = spacy.load('nl_core_news_lg')"
   ]
  },
  {
   "cell_type": "markdown",
   "id": "669c7951",
   "metadata": {},
   "source": [
    "### Preprocessing SICK-NL"
   ]
  },
  {
   "cell_type": "code",
   "execution_count": 4,
   "id": "7d8a48a3",
   "metadata": {},
   "outputs": [],
   "source": [
    "dev_dict_sicknl = pickle.load(open(\"../data/sicknl/dev.p\", \"rb\"))\n",
    "test_dict_sicknl = pickle.load(open(\"../data/sicknl/test.p\", \"rb\"))\n",
    "\n",
    "for pair_id, feats in dev_dict_sicknl.items():\n",
    "    dev_dict_sicknl[pair_id]['t'] = preprocess(feats['t'], nlp)\n",
    "    dev_dict_sicknl[pair_id]['h'] = preprocess(feats['h'], nlp)\n",
    "    \n",
    "for pair_id, feats in test_dict_sicknl.items():\n",
    "    test_dict_sicknl[pair_id]['t'] = preprocess(feats['t'], nlp)\n",
    "    test_dict_sicknl[pair_id]['h'] = preprocess(feats['h'], nlp)"
   ]
  },
  {
   "cell_type": "markdown",
   "id": "66d3d4be",
   "metadata": {},
   "source": [
    "### Preprocessing RTE-3"
   ]
  },
  {
   "cell_type": "code",
   "execution_count": 5,
   "id": "e38eba3b",
   "metadata": {},
   "outputs": [],
   "source": [
    "dev_dict_rte3 = pickle.load(open(\"../data/rte3/dev.p\", \"rb\"))\n",
    "test_dict_rte3 = pickle.load(open(\"../data/rte3/test.p\", \"rb\"))\n",
    "\n",
    "for pair_id, feats in dev_dict_rte3.items():\n",
    "    dev_dict_rte3[pair_id]['t'] = preprocess(feats['t'], nlp)\n",
    "    dev_dict_rte3[pair_id]['h'] = preprocess(feats['h'], nlp)\n",
    "    \n",
    "for pair_id, feats in test_dict_rte3.items():\n",
    "    test_dict_rte3[pair_id]['t'] = preprocess(feats['t'], nlp)\n",
    "    test_dict_rte3[pair_id]['h'] = preprocess(feats['h'], nlp)"
   ]
  },
  {
   "cell_type": "markdown",
   "id": "5f56fcaf",
   "metadata": {},
   "source": [
    "### Merging SICK-NL and RTE-3"
   ]
  },
  {
   "cell_type": "code",
   "execution_count": 6,
   "id": "70b664cf",
   "metadata": {},
   "outputs": [],
   "source": [
    "# Handle conflicting keys\n",
    "dev_dict_merged = dict()\n",
    "length = 0\n",
    "for feats in dev_dict_rte3.values():\n",
    "    dev_dict_merged[length+1] = feats\n",
    "    length += 1\n",
    "for feats in dev_dict_sicknl.values():\n",
    "    dev_dict_merged[length+1] = feats\n",
    "    length += 1\n",
    "\n",
    "# Handle conflicting keys\n",
    "test_dict_merged = dict()\n",
    "length = 0\n",
    "for feats in test_dict_rte3.values():\n",
    "    test_dict_merged[length+1] = feats\n",
    "    length += 1\n",
    "for feats in test_dict_sicknl.values():\n",
    "    test_dict_merged[length+1] = feats\n",
    "    length += 1"
   ]
  },
  {
   "cell_type": "code",
   "execution_count": 7,
   "id": "ef4b7f00",
   "metadata": {},
   "outputs": [],
   "source": [
    "cosims_sicknl_dev = get_cosim(dev_dict_sicknl)\n",
    "cosims_rte3_dev = get_cosim(dev_dict_rte3)\n",
    "cosims_merged_dev = get_cosim(dev_dict_merged)\n",
    "\n",
    "cosims_sicknl_test = get_cosim(test_dict_sicknl)\n",
    "cosims_rte3_test = get_cosim(test_dict_rte3)\n",
    "cosims_merged_test = get_cosim(test_dict_merged)"
   ]
  },
  {
   "cell_type": "markdown",
   "id": "ca787481",
   "metadata": {},
   "source": [
    "## Retrieving dependency similarities"
   ]
  },
  {
   "cell_type": "markdown",
   "id": "7ebe4805",
   "metadata": {},
   "source": [
    "### Retrieving dependencies and tokens\n",
    "Dependencies and tokens are added to the inference dicts for faster looping."
   ]
  },
  {
   "cell_type": "code",
   "execution_count": 8,
   "id": "7a246cb1",
   "metadata": {},
   "outputs": [],
   "source": [
    "def append_dict(nlp, inference_dict):\n",
    "    \"\"\"\n",
    "    Adds four key-value pairs to each pair in the inference_dict: for both\n",
    "    documents 1) a lowered and tokenised version and 2) its dependencies.\n",
    "\n",
    "    :param nlp: SpaCy pipeline\n",
    "    :param inference_dict: an inference dict\n",
    "    :return: the appended inference dict\n",
    "    \"\"\"\n",
    "    for pair_id, entry in inference_dict.items():\n",
    "        t_doc = nlp(entry['t'])\n",
    "        h_doc = nlp(entry['h'])\n",
    "\n",
    "        inference_dict[pair_id]['t_tokens'] = [token.text.lower() for sent in t_doc.sents for token in sent]\n",
    "        inference_dict[pair_id]['h_tokens'] = [token.text.lower() for sent in h_doc.sents for token in sent]\n",
    "        inference_dict[pair_id]['t_deps'] = [(token.lemma_, token.dep_, token.head.lemma_) for token in t_doc]\n",
    "        inference_dict[pair_id]['h_deps'] = [(token.lemma_, token.dep_, token.head.lemma_) for token in h_doc]\n",
    "                \n",
    "    return(inference_dict)"
   ]
  },
  {
   "cell_type": "code",
   "execution_count": 9,
   "id": "f39167fa",
   "metadata": {},
   "outputs": [],
   "source": [
    "import spacy\n",
    "import pickle\n",
    "\n",
    "\n",
    "nlp = spacy.load('nl_core_news_lg')\n",
    "\n",
    "dev_dict_sicknl = pickle.load(open(\"../data/sicknl/dev.p\", \"rb\"))\n",
    "test_dict_sicknl = pickle.load(open(\"../data/sicknl/test.p\", \"rb\"))\n",
    "dev_dict_rte3 = pickle.load(open(\"../data/rte3/dev.p\", \"rb\"))\n",
    "test_dict_rte3 = pickle.load(open(\"../data/rte3/test.p\", \"rb\"))\n",
    "\n",
    "# Handle duplicate keys while merging SICK-NL and RTE-3\n",
    "length = 1\n",
    "dev_dict_merged = dict()\n",
    "for feats in dev_dict_sicknl.values():\n",
    "    dev_dict_merged[length] = feats\n",
    "    length += 1\n",
    "for feats in dev_dict_rte3.values():\n",
    "    dev_dict_merged[length] = feats\n",
    "    length += 1\n",
    "    \n",
    "length = 1\n",
    "test_dict_merged = dict()\n",
    "for feats in test_dict_sicknl.values():\n",
    "    test_dict_merged[length] = feats\n",
    "    length += 1\n",
    "for feats in test_dict_rte3.values():\n",
    "    test_dict_merged[length] = feats\n",
    "    length += 1\n",
    "    \n",
    "dev_dict_sicknl = append_dict(nlp, dev_dict_sicknl)\n",
    "test_dict_sicknl = append_dict(nlp, test_dict_sicknl)\n",
    "dev_dict_rte3 = append_dict(nlp, dev_dict_rte3)\n",
    "test_dict_rte3 = append_dict(nlp, test_dict_rte3)\n",
    "dev_dict_merged = append_dict(nlp, dev_dict_merged)\n",
    "test_dict_merged = append_dict(nlp, test_dict_merged)"
   ]
  },
  {
   "cell_type": "markdown",
   "id": "d72bd610",
   "metadata": {},
   "source": [
    "### Defining possible overlap paths\n",
    "Matching rules consist of two comparisons: both between 1) the lemmas and 2) the relations. First, 6 functions are build to define 6 possible paths:"
   ]
  },
  {
   "cell_type": "code",
   "execution_count": 10,
   "id": "2aa4ff13",
   "metadata": {},
   "outputs": [],
   "source": [
    "\"\"\"\n",
    "6 paths to compare words. Note that a match is positive if a word in the hypothesis is\n",
    "a substring of the word in the text (e.g. volleybal = bal).\n",
    "\n",
    ":param dep_t: one of the dependency triplets in the text (tuple)\n",
    ":param dep_h: one of the dependency triplets in the hypothesis (tuple)\n",
    ":return: True if it is a match, False otherwise\n",
    "\"\"\"\n",
    "def linear_full_overlap(dep_t, dep_h):\n",
    "    \"\"\"Checks whether both the head and dependent of the triplets match.\"\"\"\n",
    "    return (dep_h[0] in dep_t[0]) and (dep_h[2] in dep_t[2])\n",
    "\n",
    "\n",
    "def linear_head_overlap(dep_t, dep_h):\n",
    "    \"\"\"Checks whether the heads of the triplets match.\"\"\"\n",
    "    return dep_h[2] in dep_t[2]\n",
    "\n",
    "\n",
    "def linear_dependent_overlap(dep_t, dep_h):\n",
    "    \"\"\"Checks whether the dependents of the triplets match.\"\"\"\n",
    "    return dep_h[0] in dep_t[0]\n",
    "\n",
    "\n",
    "def cross_full_overlap(dep_t, dep_h):\n",
    "    \"\"\"Checks whether the dependent and head in the hypthesis triplet respectively \n",
    "    matches the head and dependent in the text triplet.\"\"\"\n",
    "    return (dep_h[2] in dep_t[0]) and (dep_h[0] in dep_t[2])\n",
    "\n",
    "\n",
    "def cross_partial_overlap_1(dep_t, dep_h):\n",
    "    \"\"\"Checks whether the dependent in the text triplet matches the head in the hypthesis triplet.\"\"\"\n",
    "    return dep_h[2] in dep_t[0]\n",
    "\n",
    "\n",
    "def cross_partial_overlap_2(dep_t, dep_h):\n",
    "    \"\"\"Checks whether the head in the text triplet matches the dependent in the hypthesis triplet.\"\"\"\n",
    "    return dep_h[0] in dep_t[2]"
   ]
  },
  {
   "cell_type": "markdown",
   "id": "276288aa",
   "metadata": {},
   "source": [
    "### Applying rules\n",
    "Subsequently, a function that combines both comparisons is build. The relations to compare are yet to be defined."
   ]
  },
  {
   "cell_type": "code",
   "execution_count": 11,
   "id": "18bd127b",
   "metadata": {},
   "outputs": [],
   "source": [
    "def apply_rule(t_deps, dep_h, rel_rels, overlap_func):\n",
    "    \"\"\"\n",
    "    Checks whether the relations match and the words match according to the specified overlap path.\n",
    "    \n",
    "    :param t_deps: a list of all dependency triples (tuples) in the text\n",
    "    :parm dep_h: the current (i.e. to be checked) dependency triple (tuple) in the hypothesis\n",
    "    :param rel_rels: order independent list of two lists containing related relations \n",
    "                    (e.g. [['nmod'], ['obj', 'nsubj']])\n",
    "    :param overlap_func: func of the corresponding overlap pattern\n",
    "    :return: True if a match is found, False otherwise\n",
    "    \"\"\"\n",
    "    # one direction, e.g. H(Y, 'nmod', X) and and T(X, 'obj', Y)\n",
    "    if dep_h[1] in rel_rels[0]:\n",
    "        for dep_t in t_deps:\n",
    "            if dep_t[1] in rel_rels[1] and overlap_func(dep_t, dep_h):\n",
    "                    return True\n",
    "    \n",
    "    # opposite direction, e.g. H(X, 'obj', Y) and and T(Y, 'nmod', X)\n",
    "    elif dep_h[1] in rel_rels[1]:\n",
    "        for dep_t in t_deps:\n",
    "            if dep_t[1] in rel_rels[0] and overlap_func(dep_t, dep_h):\n",
    "                return True\n",
    "\n",
    "    else:\n",
    "        return False"
   ]
  },
  {
   "cell_type": "markdown",
   "id": "dcda9c43",
   "metadata": {},
   "source": [
    "### Preprocessing triplets\n",
    "Several processing steps have been tested that could increase accuracy for both corpora. Only removing relations has been preserved."
   ]
  },
  {
   "cell_type": "code",
   "execution_count": 12,
   "id": "7b67ef85",
   "metadata": {},
   "outputs": [],
   "source": [
    "def process_deps(entry):\n",
    "    \"\"\"\n",
    "    Processes the appended inference dict by removing relations that lower accuracy.\n",
    "    \n",
    "    :param entry: value in the inference dict\n",
    "    :return: the processed dependencies for both the text and hypothesis\n",
    "    \"\"\"\n",
    "\n",
    "    # Remove insignificant rels\n",
    "    insignificant = ('ROOT', 'aux:pass', 'aux', 'punct')\n",
    "    t_deps = [dep_t for dep_t in entry['t_deps'] if dep_t[1] not in insignificant]\n",
    "    h_deps = [dep_h for dep_h in entry['h_deps'] if dep_h[1] not in insignificant]\n",
    "                    \n",
    "    return t_deps, h_deps"
   ]
  },
  {
   "cell_type": "code",
   "execution_count": 13,
   "id": "37080e36",
   "metadata": {},
   "outputs": [],
   "source": [
    "def get_depsim(rules, dev_dict):\n",
    "    \"\"\"\n",
    "    Reports accuracy of a given threshold for the system on a test set.\n",
    "    \n",
    "    :param rules: list where list [0] is an order independent list of two lists containing equivalent relations \n",
    "                  (e.g. [['nmod'], ['obj', 'nsubj']]) and list[1] is the func of the corresponding overlap pattern\n",
    "    :param dev_dict: an inference dict\n",
    "    \"\"\"\n",
    "    scores = []\n",
    "    for entry in dev_dict.values():\n",
    "        score = 0\n",
    "        t_deps, h_deps = process_deps(entry)\n",
    "\n",
    "        # Apply rules\n",
    "        for dep_h in h_deps:\n",
    "            # Apply custom rule 4 (negation)\n",
    "            if ('geen' in entry['t_tokens'] or 'niet' in entry['t_tokens']) and not \\\n",
    "               ('geen' in entry['h_tokens'] or 'niet' in entry['h_tokens']) or \\\n",
    "               ('geen' in entry['h_tokens'] or 'niet' in entry['h_tokens']) and not \\\n",
    "               ('geen' in entry['t_tokens'] or 'niet' in entry['t_tokens']):\n",
    "                score = 0\n",
    "                break\n",
    "                \n",
    "            # Apply custom rule 3 (aan het ..)\n",
    "            if 'aan het' in ' '.join(entry['t_tokens']) or 'aan het' in ' '.join(entry['h_tokens']):\n",
    "                if apply_rule(t_deps, dep_h, [['nmod'], ['obj']], cross_full_overlap):\n",
    "                    score += 1\n",
    "                    continue\n",
    "            \n",
    "            # Apply manual rules\n",
    "            for rule in rules:\n",
    "                if apply_rule(t_deps, dep_h, rule[0], rule[1]):\n",
    "                    score += rule[2]\n",
    "                    break\n",
    "\n",
    "        scores.append(round(score / (len(h_deps)), 3))\n",
    "    \n",
    "    return scores"
   ]
  },
  {
   "cell_type": "code",
   "execution_count": 14,
   "id": "bffb73ea",
   "metadata": {},
   "outputs": [],
   "source": [
    "rules_sicknl = pickle.load(open(\"../data/rules/sicknl.p\", \"rb\"))\n",
    "rules_rte3 = pickle.load(open(\"../data/rules/rte3.p\", \"rb\"))\n",
    "rules_merged = pickle.load(open(\"../data/rules/merged.p\", \"rb\"))"
   ]
  },
  {
   "cell_type": "code",
   "execution_count": 15,
   "id": "3cab190b",
   "metadata": {},
   "outputs": [],
   "source": [
    "depsims_sicknl_dev = get_depsim(rules_sicknl, dev_dict_sicknl)\n",
    "depsims_rte3_dev = get_depsim(rules_rte3, dev_dict_rte3)\n",
    "depsims_merged_dev = get_depsim(rules_merged, dev_dict_merged) \n",
    "\n",
    "depsims_sicknl_test = get_depsim(rules_sicknl, test_dict_sicknl)\n",
    "depsims_rte3_test = get_depsim(rules_rte3, test_dict_rte3)\n",
    "depsims_merged_test = get_depsim(rules_merged, test_dict_merged)"
   ]
  },
  {
   "cell_type": "markdown",
   "id": "50822627",
   "metadata": {},
   "source": [
    "## Retrieving gold labels"
   ]
  },
  {
   "cell_type": "code",
   "execution_count": 16,
   "id": "1cd3099b",
   "metadata": {},
   "outputs": [],
   "source": [
    "def get_gold(dev_dict):\n",
    "    \"\"\"\n",
    "    Retrieves gold labels (0 for no and 1 for yes) of an inference dict\n",
    "    \n",
    "    :param dev_dict: an inference dict\n",
    "    return: list of gold labels\n",
    "    \"\"\"\n",
    "    \n",
    "    labels = []\n",
    "    for entry in dev_dict.values():\n",
    "        if entry['entailment_label'] == 'NO':\n",
    "            labels.append(0)\n",
    "        else:\n",
    "            labels.append(1)\n",
    "            \n",
    "    return labels"
   ]
  },
  {
   "cell_type": "code",
   "execution_count": 17,
   "id": "819b07c9",
   "metadata": {},
   "outputs": [],
   "source": [
    "gold_sicknl_train = get_gold(dev_dict_sicknl)\n",
    "gold_rte3_train = get_gold(dev_dict_rte3)\n",
    "gold_merged_train = get_gold(dev_dict_merged)\n",
    "\n",
    "gold_sicknl_test = get_gold(test_dict_sicknl)\n",
    "gold_rte3_test = get_gold(test_dict_rte3)\n",
    "gold_merged_test = get_gold(test_dict_merged)"
   ]
  },
  {
   "cell_type": "markdown",
   "id": "cb3058b3",
   "metadata": {},
   "source": [
    "## Combining similarities "
   ]
  },
  {
   "cell_type": "code",
   "execution_count": 18,
   "id": "1b9c0cfd",
   "metadata": {},
   "outputs": [],
   "source": [
    "vectors_sicknl_train, vectors_rte3_train = [], []\n",
    "for splits in [[cosims_sicknl_dev, depsims_sicknl_dev, vectors_sicknl_train], \n",
    "               [cosims_rte3_dev, depsims_rte3_dev, vectors_rte3_train]]:\n",
    "    for i in range(len(splits[0])):\n",
    "        splits[2].append([splits[0][i], splits[1][i]])\n",
    "\n",
    "vectors_sicknl_test, vectors_rte3_test = [], []\n",
    "for splits in [[cosims_sicknl_test, depsims_sicknl_test, vectors_sicknl_test], \n",
    "               [cosims_rte3_test, depsims_rte3_test, vectors_rte3_test]]:\n",
    "    for i in range(len(splits[0])):\n",
    "        splits[2].append([splits[0][i], splits[1][i]])\n",
    "        \n",
    "vectors_merged_train = vectors_sicknl_train + vectors_rte3_train\n",
    "vectors_merged_test = vectors_sicknl_test + vectors_rte3_test"
   ]
  },
  {
   "cell_type": "markdown",
   "id": "7b3d9f24",
   "metadata": {},
   "source": [
    "## Training and evaluating classifiers"
   ]
  },
  {
   "cell_type": "code",
   "execution_count": 19,
   "id": "b6549a40",
   "metadata": {},
   "outputs": [],
   "source": [
    "from sklearn import metrics\n",
    "\n",
    "def train_classifiers(clf, params):\n",
    "    \"\"\"\n",
    "    Trains the given classifier model on dev sets.\n",
    "    \n",
    "    :param clf: sklearn class of the classifiers\n",
    "    :params: dictionary with params names (str) as keys and lists of parameter settings to try as values\n",
    "    :returns: trained classifier models\n",
    "    \"\"\"\n",
    "\n",
    "    clf_sicknl = GridSearchCV(clf, params, scoring='accuracy')\n",
    "    clf_sicknl.fit(vectors_sicknl_train, gold_sicknl_train)\n",
    "\n",
    "    clf_rte3 = GridSearchCV(clf, params, scoring='accuracy')\n",
    "    clf_rte3.fit(vectors_rte3_train, gold_rte3_train)\n",
    "\n",
    "    clf_merged = GridSearchCV(clf, params, scoring='accuracy')\n",
    "    clf_merged.fit(vectors_merged_train, gold_merged_train)\n",
    "\n",
    "    print(\"SICK-NL: {} (avg) using {}\".format(round(clf_sicknl.score(vectors_sicknl_train, gold_sicknl_train), 3), \n",
    "                                              clf_sicknl.best_params_), file=sys.stderr)\n",
    "    print(\"RTE-3: {} (avg) using {}\".format(round(clf_rte3.score(vectors_rte3_train, gold_rte3_train), 3), \n",
    "                                            clf_rte3.best_params_), file=sys.stderr)\n",
    "    print(\"Merged: {} (avg) using {}\".format(round(clf_merged.score(vectors_merged_train, gold_merged_train), 3), \n",
    "                                             clf_merged.best_params_), file=sys.stderr)\n",
    "    \n",
    "    return clf_sicknl, clf_rte3, clf_merged"
   ]
  },
  {
   "cell_type": "code",
   "execution_count": 20,
   "id": "b1ea6797",
   "metadata": {},
   "outputs": [],
   "source": [
    "from sklearn.metrics import classification_report\n",
    "\n",
    "def eval_classifiers(clf_sicknl, clf_rte3, clf_merged, extended=False):\n",
    "    \"\"\"\n",
    "    Prints the evaluation of the given classifiers on the corresponding test sets.\n",
    "    \n",
    "    :param clf_sicknl: sklearn class of the classifiers trained on SICK-NL\n",
    "    :param clf_rte3: sklearn class of the classifiers trained on RTE-3\n",
    "    :param clf_merged: sklearn class of the classifiers trained on their union\n",
    "    \"\"\"    \n",
    "    print(\"SICK-NL model:\")\n",
    "    print(classification_report(gold_sicknl_test, clf_sicknl.predict(vectors_sicknl_test), digits=3))\n",
    "    if extended == True:\n",
    "        print('Accuracy on RTE-3:', round(accuracy_score(gold_rte3_test, clf_sicknl.predict(vectors_rte3_test)), 3))\n",
    "        print('Accuracy on merged:', round(accuracy_score(gold_merged_test, clf_sicknl.predict(vectors_merged_test)), 3), '\\n')\n",
    "    \n",
    "    print(\"RTE-3 model:\")\n",
    "    print(classification_report(gold_rte3_test, clf_rte3.predict(vectors_rte3_test), digits=3))\n",
    "    if extended == True:\n",
    "        print('Accuracy on SICK-NL:', round(accuracy_score(gold_sicknl_test, clf_rte3.predict(vectors_sicknl_test)), 3))\n",
    "        print('Accuracy on merged:', round(accuracy_score(gold_merged_test, clf_rte3.predict(vectors_merged_test)), 3), '\\n')\n",
    "    \n",
    "    print(\"Merged model:\")\n",
    "    print(classification_report(gold_merged_test, clf_merged.predict(vectors_merged_test), digits=3))\n",
    "    if extended == True:\n",
    "        print('Accuracy on SICK-NL:', round(accuracy_score(gold_sicknl_test, clf_rte3.predict(vectors_sicknl_test)), 3))\n",
    "        print('Accuracy on RTE-3:', round(accuracy_score(gold_rte3_test, clf_merged.predict(vectors_rte3_test)), 3), '\\n')"
   ]
  },
  {
   "cell_type": "code",
   "execution_count": 21,
   "id": "53917101",
   "metadata": {},
   "outputs": [],
   "source": [
    "from sklearn.model_selection import GridSearchCV"
   ]
  },
  {
   "cell_type": "markdown",
   "id": "40ca2ff2",
   "metadata": {},
   "source": [
    "### Gaussian naive Bayes"
   ]
  },
  {
   "cell_type": "code",
   "execution_count": 22,
   "id": "67fefdd0",
   "metadata": {},
   "outputs": [
    {
     "name": "stderr",
     "output_type": "stream",
     "text": [
      "SICK-NL: 0.799 (avg) using {}\n",
      "RTE-3: 0.646 (avg) using {}\n",
      "Merged: 0.751 (avg) using {}\n"
     ]
    }
   ],
   "source": [
    "from sklearn.naive_bayes import GaussianNB\n",
    "clf_sicknl, clf_rte3, clf_merged = train_classifiers(GaussianNB(), params={})"
   ]
  },
  {
   "cell_type": "code",
   "execution_count": 23,
   "id": "64f8d04f",
   "metadata": {},
   "outputs": [
    {
     "name": "stdout",
     "output_type": "stream",
     "text": [
      "SICK-NL model:\n",
      "              precision    recall  f1-score   support\n",
      "\n",
      "           0      0.798     0.757     0.777       564\n",
      "           1      0.769     0.809     0.788       564\n",
      "\n",
      "    accuracy                          0.783      1128\n",
      "   macro avg      0.784     0.783     0.783      1128\n",
      "weighted avg      0.784     0.783     0.783      1128\n",
      "\n",
      "RTE-3 model:\n",
      "              precision    recall  f1-score   support\n",
      "\n",
      "           0      0.581     0.641     0.610       156\n",
      "           1      0.600     0.538     0.568       156\n",
      "\n",
      "    accuracy                          0.590       312\n",
      "   macro avg      0.591     0.590     0.589       312\n",
      "weighted avg      0.591     0.590     0.589       312\n",
      "\n",
      "Merged model:\n",
      "              precision    recall  f1-score   support\n",
      "\n",
      "           0      0.719     0.762     0.740       720\n",
      "           1      0.747     0.701     0.723       720\n",
      "\n",
      "    accuracy                          0.732      1440\n",
      "   macro avg      0.733     0.732     0.732      1440\n",
      "weighted avg      0.733     0.732     0.732      1440\n",
      "\n"
     ]
    }
   ],
   "source": [
    "eval_classifiers(clf_sicknl, clf_rte3, clf_merged)"
   ]
  },
  {
   "cell_type": "markdown",
   "id": "1fca31b6",
   "metadata": {},
   "source": [
    "### SVMs"
   ]
  },
  {
   "cell_type": "code",
   "execution_count": 24,
   "id": "abe50aa2",
   "metadata": {},
   "outputs": [
    {
     "name": "stderr",
     "output_type": "stream",
     "text": [
      "SICK-NL: 0.799 (avg) using {'C': 1, 'kernel': 'linear', 'random_state': 1}\n",
      "RTE-3: 0.638 (avg) using {'C': 1, 'kernel': 'linear', 'random_state': 1}\n",
      "Merged: 0.755 (avg) using {'C': 4, 'kernel': 'linear', 'random_state': 1}\n"
     ]
    }
   ],
   "source": [
    "from sklearn import svm\n",
    "\n",
    "params = {'C': [0.5, 1, 2, 4, 6, 8, 10, 15, 20, 25, 30, 35, 40, 50, 75, 100],\n",
    "          'kernel': ('linear', 'rbf'),\n",
    "          'random_state': [1]\n",
    "         }\n",
    "\n",
    "clf = svm.SVC()\n",
    "clf_sicknl, clf_rte3, clf_merged = train_classifiers(clf, params)"
   ]
  },
  {
   "cell_type": "code",
   "execution_count": 25,
   "id": "9ae69d80",
   "metadata": {
    "scrolled": false
   },
   "outputs": [
    {
     "name": "stdout",
     "output_type": "stream",
     "text": [
      "SICK-NL model:\n",
      "              precision    recall  f1-score   support\n",
      "\n",
      "           0      0.784     0.784     0.784       564\n",
      "           1      0.784     0.784     0.784       564\n",
      "\n",
      "    accuracy                          0.784      1128\n",
      "   macro avg      0.784     0.784     0.784      1128\n",
      "weighted avg      0.784     0.784     0.784      1128\n",
      "\n",
      "RTE-3 model:\n",
      "              precision    recall  f1-score   support\n",
      "\n",
      "           0      0.614     0.622     0.618       156\n",
      "           1      0.617     0.609     0.613       156\n",
      "\n",
      "    accuracy                          0.615       312\n",
      "   macro avg      0.615     0.615     0.615       312\n",
      "weighted avg      0.615     0.615     0.615       312\n",
      "\n",
      "Merged model:\n",
      "              precision    recall  f1-score   support\n",
      "\n",
      "           0      0.721     0.762     0.741       720\n",
      "           1      0.748     0.706     0.726       720\n",
      "\n",
      "    accuracy                          0.734      1440\n",
      "   macro avg      0.735     0.734     0.734      1440\n",
      "weighted avg      0.735     0.734     0.734      1440\n",
      "\n"
     ]
    }
   ],
   "source": [
    "eval_classifiers(clf_sicknl, clf_rte3, clf_merged)"
   ]
  },
  {
   "cell_type": "code",
   "execution_count": 26,
   "id": "6293ffbd",
   "metadata": {},
   "outputs": [
    {
     "name": "stderr",
     "output_type": "stream",
     "text": [
      "SICK-NL: 0.8 (avg) using {'kernel': 'linear', 'nu': 0.96, 'random_state': 1}\n",
      "RTE-3: 0.645 (avg) using {'kernel': 'linear', 'nu': 0.91, 'random_state': 1}\n",
      "Merged: 0.753 (avg) using {'kernel': 'linear', 'nu': 0.76, 'random_state': 1}\n"
     ]
    }
   ],
   "source": [
    "params = {'nu': [round(nu, 2) for nu in np.arange(0.01, 1.01, 0.05)],\n",
    "          'kernel': ('linear', 'rbf'),\n",
    "          'random_state': [1]\n",
    "          }\n",
    "\n",
    "clf = svm.NuSVC()\n",
    "clf_sicknl, clf_rte3, clf_merged = train_classifiers(clf, params)"
   ]
  },
  {
   "cell_type": "code",
   "execution_count": 27,
   "id": "2d69287b",
   "metadata": {},
   "outputs": [
    {
     "name": "stdout",
     "output_type": "stream",
     "text": [
      "SICK-NL model:\n",
      "              precision    recall  f1-score   support\n",
      "\n",
      "           0      0.799     0.759     0.778       564\n",
      "           1      0.770     0.809     0.789       564\n",
      "\n",
      "    accuracy                          0.784      1128\n",
      "   macro avg      0.784     0.784     0.784      1128\n",
      "weighted avg      0.784     0.784     0.784      1128\n",
      "\n",
      "RTE-3 model:\n",
      "              precision    recall  f1-score   support\n",
      "\n",
      "           0      0.582     0.635     0.607       156\n",
      "           1      0.599     0.545     0.570       156\n",
      "\n",
      "    accuracy                          0.590       312\n",
      "   macro avg      0.590     0.590     0.589       312\n",
      "weighted avg      0.590     0.590     0.589       312\n",
      "\n",
      "Merged model:\n",
      "              precision    recall  f1-score   support\n",
      "\n",
      "           0      0.726     0.749     0.737       720\n",
      "           1      0.741     0.718     0.729       720\n",
      "\n",
      "    accuracy                          0.733      1440\n",
      "   macro avg      0.734     0.733     0.733      1440\n",
      "weighted avg      0.734     0.733     0.733      1440\n",
      "\n"
     ]
    }
   ],
   "source": [
    "eval_classifiers(clf_sicknl, clf_rte3, clf_merged)"
   ]
  },
  {
   "cell_type": "code",
   "execution_count": 28,
   "id": "ac698ddb",
   "metadata": {},
   "outputs": [
    {
     "name": "stderr",
     "output_type": "stream",
     "text": [
      "SICK-NL: 0.799 (avg) using {'C': 0.5, 'dual': False, 'penalty': 'l1', 'random_state': 1}\n",
      "RTE-3: 0.632 (avg) using {'C': 0.5, 'dual': False, 'penalty': 'l1', 'random_state': 1}\n",
      "Merged: 0.754 (avg) using {'C': 0.5, 'dual': False, 'penalty': 'l1', 'random_state': 1}\n"
     ]
    }
   ],
   "source": [
    "params = {'penalty': ('l1', 'l2'),\n",
    "          'C': [0.5, 1, 2, 4, 6, 8, 10, 15, 20, 25, 30, 35, 40, 50, 75, 100],\n",
    "          'dual': [False],\n",
    "          'random_state': [1]\n",
    "         }\n",
    "\n",
    "clf = svm.LinearSVC()\n",
    "clf_sicknl, clf_rte3, clf_merged = train_classifiers(clf, params)"
   ]
  },
  {
   "cell_type": "code",
   "execution_count": 29,
   "id": "09d417d3",
   "metadata": {},
   "outputs": [
    {
     "name": "stdout",
     "output_type": "stream",
     "text": [
      "SICK-NL model:\n",
      "              precision    recall  f1-score   support\n",
      "\n",
      "           0      0.798     0.762     0.780       564\n",
      "           1      0.772     0.807     0.789       564\n",
      "\n",
      "    accuracy                          0.785      1128\n",
      "   macro avg      0.785     0.785     0.784      1128\n",
      "weighted avg      0.785     0.785     0.784      1128\n",
      "\n",
      "Accuracy on RTE-3: 0.554\n",
      "Accuracy on merged: 0.735 \n",
      "\n",
      "RTE-3 model:\n",
      "              precision    recall  f1-score   support\n",
      "\n",
      "           0      0.614     0.654     0.634       156\n",
      "           1      0.630     0.590     0.609       156\n",
      "\n",
      "    accuracy                          0.622       312\n",
      "   macro avg      0.622     0.622     0.621       312\n",
      "weighted avg      0.622     0.622     0.621       312\n",
      "\n",
      "Accuracy on SICK-NL: 0.735\n",
      "Accuracy on merged: 0.71 \n",
      "\n",
      "Merged model:\n",
      "              precision    recall  f1-score   support\n",
      "\n",
      "           0      0.723     0.753     0.737       720\n",
      "           1      0.742     0.711     0.726       720\n",
      "\n",
      "    accuracy                          0.732      1440\n",
      "   macro avg      0.732     0.732     0.732      1440\n",
      "weighted avg      0.732     0.732     0.732      1440\n",
      "\n",
      "Accuracy on SICK-NL: 0.735\n",
      "Accuracy on RTE-3: 0.564 \n",
      "\n"
     ]
    }
   ],
   "source": [
    "eval_classifiers(clf_sicknl, clf_rte3, clf_merged, extended=True)"
   ]
  },
  {
   "cell_type": "code",
   "execution_count": 30,
   "id": "6e8d0c8c",
   "metadata": {},
   "outputs": [],
   "source": [
    "import matplotlib.pyplot as plt\n",
    "import pandas as pd\n",
    "from matplotlib.colors import ListedColormap\n",
    "from matplotlib import rc\n",
    "\n",
    "\n",
    "rc('font', **{'family': 'serif', 'serif': ['Computer Modern'], 'size': 18})\n",
    "rc('text', usetex=True)\n",
    "\n",
    "\n",
    "def draw_plot(clf, vectors, gold):\n",
    "    \"\"\"\n",
    "    Visualises dependency and cosine similarity in a plot, along with its decision boundary.\n",
    "    \n",
    "    :param clf: the classifier model\n",
    "    :param vectors: list of vectors to scatter\n",
    "    :param gold: list of gold labels\n",
    "    \"\"\"\n",
    "\n",
    "    X_set, y_set = np.array(vectors), np.array(gold)\n",
    "    X1, X2 = np.meshgrid(np.arange(start = -0.05, stop = 1.05, step = 0.01),\n",
    "                         np.arange(start = -0.05, stop = 1.05, step = 0.01))\n",
    "    plt.contourf(X1, X2, clf.predict(np.array([X1.ravel(), X2.ravel()]).T).\n",
    "                 reshape(X1.shape), alpha = 0.3, cmap = ListedColormap(('#C2203D', '#25723A')))\n",
    "    plt.xlim(X1.min(), X1.max())\n",
    "    plt.ylim(X2.min(), X2.max())\n",
    "\n",
    "    for i, j in enumerate(np.unique(y_set)):\n",
    "        plt.scatter(X_set[y_set == j, 0], X_set[y_set == j, 1],\n",
    "                    s = 30,\n",
    "                    marker = '+',\n",
    "                    linewidths = 0.5,\n",
    "                    c = ['#C2203D', '#25723A'][i], label = ['no', 'yes'][j])\n",
    "\n",
    "    plt.xlabel('Cosine similarity', labelpad=10)\n",
    "    plt.ylabel('Dependency similarity', labelpad=10)\n",
    "    plt.legend()\n",
    "    plt.xticks([0.0, 0.25, 0.5, 0.75, 1])\n",
    "    plt.yticks([0.0, 0.25, 0.5, 0.75, 1])\n",
    "    plt.gca().set_aspect('equal')\n",
    "    plt.show()"
   ]
  },
  {
   "cell_type": "code",
   "execution_count": 31,
   "id": "90bb3fcd",
   "metadata": {},
   "outputs": [
    {
     "data": {
      "image/png": "[encoded data removed]",
      "text/plain": [
       "<Figure size 432x288 with 1 Axes>"
      ]
     },
     "metadata": {
      "needs_background": "light"
     },
     "output_type": "display_data"
    },
    {
     "data": {
      "image/png": "[encoded data removed]",
      "text/plain": [
       "<Figure size 432x288 with 1 Axes>"
      ]
     },
     "metadata": {
      "needs_background": "light"
     },
     "output_type": "display_data"
    },
    {
     "data": {
      "image/png": "[encoded data removed]",
      "text/plain": [
       "<Figure size 432x288 with 1 Axes>"
      ]
     },
     "metadata": {
      "needs_background": "light"
     },
     "output_type": "display_data"
    }
   ],
   "source": [
    "draw_plot(clf_sicknl, vectors_sicknl_test.copy(), gold_sicknl_test)\n",
    "draw_plot(clf_rte3, vectors_rte3_test.copy(), gold_rte3_test)\n",
    "draw_plot(clf_merged, vectors_merged_test.copy(), gold_merged_test)"
   ]
  },
  {
   "cell_type": "markdown",
   "id": "31c6a9dc",
   "metadata": {},
   "source": [
    "### Logistic regression"
   ]
  },
  {
   "cell_type": "code",
   "execution_count": 32,
   "id": "61ce2459",
   "metadata": {
    "scrolled": true
   },
   "outputs": [
    {
     "name": "stderr",
     "output_type": "stream",
     "text": [
      "SICK-NL: 0.799 (avg) using {'C': 0.5, 'penalty': 'l1', 'random_state': 1, 'solver': 'saga'}\n",
      "RTE-3: 0.635 (avg) using {'C': 0.5, 'penalty': 'l2', 'random_state': 1, 'solver': 'newton-cg'}\n",
      "Merged: 0.754 (avg) using {'C': 0.5, 'penalty': 'l2', 'random_state': 1, 'solver': 'newton-cg'}\n"
     ]
    }
   ],
   "source": [
    "from sklearn.linear_model import LogisticRegression\n",
    "\n",
    "params = [{'penalty': ['l1'],\n",
    "           'C': [0.5, 1, 2, 4, 6, 8, 10, 15, 20, 25, 30, 35, 40, 50, 75, 100],\n",
    "           'solver': ['saga'],\n",
    "           'random_state': [1]},\n",
    "          {'penalty': ['l2'],\n",
    "           'C': [0.5, 1, 2, 4, 6, 8, 10, 15, 20, 25, 30, 35, 40, 50, 75, 100],\n",
    "           'solver': ('newton-cg' ,'lbfgs', 'sag', 'saga'),\n",
    "           'random_state': [1]},\n",
    "          {'penalty': ['none'],\n",
    "           'solver': ('newton-cg' ,'lbfgs', 'sag', 'saga'),\n",
    "           'random_state': [1]}]\n",
    "\n",
    "clf = LogisticRegression()\n",
    "clf_sicknl, clf_rte3, clf_merged = train_classifiers(clf, params)"
   ]
  },
  {
   "cell_type": "code",
   "execution_count": 33,
   "id": "ac521abf",
   "metadata": {},
   "outputs": [
    {
     "name": "stdout",
     "output_type": "stream",
     "text": [
      "SICK-NL model:\n",
      "              precision    recall  f1-score   support\n",
      "\n",
      "           0      0.798     0.764     0.781       564\n",
      "           1      0.774     0.807     0.790       564\n",
      "\n",
      "    accuracy                          0.785      1128\n",
      "   macro avg      0.786     0.785     0.785      1128\n",
      "weighted avg      0.786     0.785     0.785      1128\n",
      "\n",
      "RTE-3 model:\n",
      "              precision    recall  f1-score   support\n",
      "\n",
      "           0      0.592     0.641     0.615       156\n",
      "           1      0.608     0.558     0.582       156\n",
      "\n",
      "    accuracy                          0.599       312\n",
      "   macro avg      0.600     0.599     0.599       312\n",
      "weighted avg      0.600     0.599     0.599       312\n",
      "\n",
      "Merged model:\n",
      "              precision    recall  f1-score   support\n",
      "\n",
      "           0      0.724     0.751     0.738       720\n",
      "           1      0.742     0.714     0.728       720\n",
      "\n",
      "    accuracy                          0.733      1440\n",
      "   macro avg      0.733     0.733     0.733      1440\n",
      "weighted avg      0.733     0.733     0.733      1440\n",
      "\n"
     ]
    }
   ],
   "source": [
    "eval_classifiers(clf_sicknl, clf_rte3, clf_merged)"
   ]
  },
  {
   "cell_type": "markdown",
   "id": "f9c06085",
   "metadata": {},
   "source": [
    "### _k_-NN"
   ]
  },
  {
   "cell_type": "code",
   "execution_count": 34,
   "id": "5cc6422a",
   "metadata": {},
   "outputs": [
    {
     "name": "stderr",
     "output_type": "stream",
     "text": [
      "SICK-NL: 0.806 (avg) using {'leaf_size': 50, 'n_neighbors': 31, 'weights': 'uniform'}\n",
      "RTE-3: 0.642 (avg) using {'leaf_size': 1, 'n_neighbors': 66, 'weights': 'uniform'}\n",
      "Merged: 0.755 (avg) using {'leaf_size': 20, 'n_neighbors': 66, 'weights': 'uniform'}\n"
     ]
    },
    {
     "data": {
      "text/plain": [
       "['models/clf_merged.joblib']"
      ]
     },
     "execution_count": 34,
     "metadata": {},
     "output_type": "execute_result"
    }
   ],
   "source": [
    "from joblib import dump\n",
    "from sklearn.neighbors import KNeighborsClassifier\n",
    "import math\n",
    "\n",
    "params = {'n_neighbors': [round(math.sqrt(len(vectors_sicknl_train))), \n",
    "                          round(math.sqrt(len(vectors_rte3_train))), \n",
    "                          round(math.sqrt(len(vectors_merged_train)))],\n",
    "          'weights': ('uniform', 'distance'),\n",
    "          'leaf_size': [1, 5, 10, 20, 30, 40, 50, 75, 100]\n",
    "         }\n",
    "\n",
    "clf = KNeighborsClassifier()\n",
    "clf_sicknl, clf_rte3, clf_merged = train_classifiers(clf, params)\n",
    "dump(clf_sicknl, 'models/clf_sicknl.joblib') \n",
    "dump(clf_rte3, 'models/clf_rte3.joblib') \n",
    "dump(clf_merged, 'models/clf_merged.joblib') "
   ]
  },
  {
   "cell_type": "code",
   "execution_count": 35,
   "id": "da395f65",
   "metadata": {},
   "outputs": [
    {
     "name": "stdout",
     "output_type": "stream",
     "text": [
      "SICK-NL model:\n",
      "              precision    recall  f1-score   support\n",
      "\n",
      "           0      0.782     0.775     0.778       564\n",
      "           1      0.777     0.784     0.780       564\n",
      "\n",
      "    accuracy                          0.779      1128\n",
      "   macro avg      0.779     0.779     0.779      1128\n",
      "weighted avg      0.779     0.779     0.779      1128\n",
      "\n",
      "RTE-3 model:\n",
      "              precision    recall  f1-score   support\n",
      "\n",
      "           0      0.614     0.622     0.618       156\n",
      "           1      0.617     0.609     0.613       156\n",
      "\n",
      "    accuracy                          0.615       312\n",
      "   macro avg      0.615     0.615     0.615       312\n",
      "weighted avg      0.615     0.615     0.615       312\n",
      "\n",
      "Merged model:\n",
      "              precision    recall  f1-score   support\n",
      "\n",
      "           0      0.730     0.762     0.746       720\n",
      "           1      0.751     0.718     0.734       720\n",
      "\n",
      "    accuracy                          0.740      1440\n",
      "   macro avg      0.741     0.740     0.740      1440\n",
      "weighted avg      0.741     0.740     0.740      1440\n",
      "\n"
     ]
    }
   ],
   "source": [
    "eval_classifiers(clf_sicknl, clf_rte3, clf_merged)"
   ]
  },
  {
   "cell_type": "markdown",
   "id": "e880d5cc",
   "metadata": {},
   "source": [
    "### DTs"
   ]
  },
  {
   "cell_type": "code",
   "execution_count": 36,
   "id": "42316d97",
   "metadata": {},
   "outputs": [
    {
     "name": "stderr",
     "output_type": "stream",
     "text": [
      "SICK-NL: 0.804 (avg) using {'criterion': 'gini', 'max_depth': 1, 'max_features': 'auto', 'min_samples_leaf': 1, 'min_samples_split': 2, 'random_state': 1}\n",
      "RTE-3: 0.645 (avg) using {'criterion': 'entropy', 'max_depth': 3, 'max_features': 'auto', 'min_samples_leaf': 1, 'min_samples_split': 2, 'random_state': 1}\n",
      "Merged: 0.757 (avg) using {'criterion': 'gini', 'max_depth': 3, 'max_features': 'auto', 'min_samples_leaf': 1, 'min_samples_split': 2, 'random_state': 1}\n"
     ]
    }
   ],
   "source": [
    "from sklearn import tree\n",
    "\n",
    "params = {'criterion': ('gini', 'entropy'),\n",
    "          'max_features': ('auto', 'sqrt', 'log2'),\n",
    "          'random_state': [1],\n",
    "          'max_depth': [1, 2, 3, 4, 5, 10, 20, 30, 40, 50, 75, 100, None],\n",
    "          'min_samples_split': [2, 3, 4, 5, 7, 9, 15],\n",
    "          'min_samples_leaf': [1, 2, 3]\n",
    "         }\n",
    "\n",
    "clf = tree.DecisionTreeClassifier()\n",
    "clf_sicknl, clf_rte3, clf_merged = train_classifiers(clf, params)"
   ]
  },
  {
   "cell_type": "code",
   "execution_count": 37,
   "id": "c3c82e49",
   "metadata": {},
   "outputs": [
    {
     "name": "stdout",
     "output_type": "stream",
     "text": [
      "SICK-NL model:\n",
      "              precision    recall  f1-score   support\n",
      "\n",
      "           0      0.788     0.764     0.776       564\n",
      "           1      0.771     0.794     0.783       564\n",
      "\n",
      "    accuracy                          0.779      1128\n",
      "   macro avg      0.780     0.779     0.779      1128\n",
      "weighted avg      0.780     0.779     0.779      1128\n",
      "\n",
      "RTE-3 model:\n",
      "              precision    recall  f1-score   support\n",
      "\n",
      "           0      0.579     0.679     0.625       156\n",
      "           1      0.612     0.506     0.554       156\n",
      "\n",
      "    accuracy                          0.593       312\n",
      "   macro avg      0.596     0.593     0.590       312\n",
      "weighted avg      0.596     0.593     0.590       312\n",
      "\n",
      "Merged model:\n",
      "              precision    recall  f1-score   support\n",
      "\n",
      "           0      0.729     0.765     0.747       720\n",
      "           1      0.753     0.715     0.734       720\n",
      "\n",
      "    accuracy                          0.740      1440\n",
      "   macro avg      0.741     0.740     0.740      1440\n",
      "weighted avg      0.741     0.740     0.740      1440\n",
      "\n"
     ]
    }
   ],
   "source": [
    "eval_classifiers(clf_sicknl, clf_rte3, clf_merged)"
   ]
  },
  {
   "cell_type": "markdown",
   "id": "aa3d7517",
   "metadata": {},
   "source": [
    "## Printing interesting pairs"
   ]
  },
  {
   "cell_type": "code",
   "execution_count": 38,
   "id": "e2185b6b",
   "metadata": {},
   "outputs": [],
   "source": [
    "dev_dict_rte3_cosim = pickle.load(open(\"../data/rte3/dev.p\", \"rb\"))\n",
    "dev_dict_sicknl_cosim = pickle.load(open(\"../data/sicknl/dev.p\", \"rb\"))\n",
    "for pair_id, feats in dev_dict_rte3_cosim.items():\n",
    "    dev_dict_rte3_cosim[pair_id]['t'] = preprocess(feats['t'], nlp)\n",
    "    dev_dict_rte3_cosim[pair_id]['h'] = preprocess(feats['h'], nlp)\n",
    "    \n",
    "for pair_id, feats in dev_dict_sicknl_cosim.items():\n",
    "    dev_dict_sicknl_cosim[pair_id]['t'] = preprocess(feats['t'], nlp)\n",
    "    dev_dict_sicknl_cosim[pair_id]['h'] = preprocess(feats['h'], nlp)\n",
    "    \n",
    "dev_dict_rte3_depsim = pickle.load(open(\"../data/rte3/dev.p\", \"rb\"))\n",
    "dev_dict_sicknl_depsim = pickle.load(open(\"../data/sicknl/dev.p\", \"rb\"))\n",
    "\n",
    "dev_dict_rte3_depsim = append_dict(nlp, dev_dict_rte3_depsim)\n",
    "dev_dict_sicknl_depsim = append_dict(nlp, dev_dict_sicknl_depsim)"
   ]
  },
  {
   "cell_type": "code",
   "execution_count": 39,
   "id": "a7828383",
   "metadata": {},
   "outputs": [],
   "source": [
    "## cosim: 0, depsim: 0, SICK-NL, YES\n",
    "# for k, v in dev_dict_sicknl_cosim.items():\n",
    "#     cosim = get_cosim({k: v})\n",
    "#     depsim = get_depsim(rules_sicknl, {k: dev_dict_sicknl_depsim[k]})\n",
    "#     if cosim[0] == 0 and depsim[0] == 0 and v['entailment_label'] == 'YES':\n",
    "#         print(cosim, depsim)\n",
    "#         print(v['t'])\n",
    "#         print(v['h'])\n",
    "#         print(dev_dict_sicknl_depsim[k]['t_tokens'])\n",
    "#         print(dev_dict_sicknl_depsim[k]['h_tokens'])\n",
    "#         print(dev_dict_sicknl_depsim[k]['t_deps'])\n",
    "#         print(dev_dict_sicknl_depsim[k]['h_deps'])\n",
    "\n",
    "## cosim: 0, depsim: 0, RTE-3\n",
    "# for k, v in dev_dict_rte3_cosim.items():\n",
    "#     cosim = get_cosim({k: v})\n",
    "#     depsim = get_depsim(rules_sicknl, {k: dev_dict_rte3_depsim[k]})\n",
    "#     if cosim[0] == 0 and depsim[0] == 0:\n",
    "#         print(cosim, depsim)\n",
    "#         print(v['t'])\n",
    "#         print(v['h'])\n",
    "#         print(dev_dict_rte3_depsim[k]['t_tokens'])\n",
    "#         print(dev_dict_rte3_depsim[k]['h_tokens'])\n",
    "#         print(dev_dict_rte3_depsim[k]['t_deps'])\n",
    "#         print(dev_dict_rte3_depsim[k]['h_deps'])"
   ]
  },
  {
   "cell_type": "markdown",
   "id": "0ac06243",
   "metadata": {},
   "source": [
    "## Visualising similarities"
   ]
  },
  {
   "cell_type": "code",
   "execution_count": 40,
   "id": "36838f19",
   "metadata": {},
   "outputs": [],
   "source": [
    "from random import uniform\n",
    "\n",
    "\n",
    "def visualise_sims(vectors, gold, target, path):\n",
    "    \"\"\"\n",
    "    Visualises dependency and cosine similarity in a plot.\n",
    "    \n",
    "    :param vectors: list of vectors to scatter\n",
    "    :param gold: list of gold labels\n",
    "    :param target: 1 for YES, 0 for NO\n",
    "    :path: path to save plot to\n",
    "    \"\"\"\n",
    "    \n",
    "    # Add jitter\n",
    "    for i, vector in enumerate(vectors):\n",
    "        vectors[i][0] = vectors[i][0] + uniform(0.000, 0.005) - uniform(0.000, 0.005)\n",
    "        vectors[i][1] = vectors[i][1] + uniform(0.000, 0.005) - uniform(0.000, 0.005)\n",
    "\n",
    "    X_set, y_set = np.array(vectors), np.array(gold)\n",
    "    X1, X2 = np.meshgrid(np.arange(start = -0.05, stop = 1.05, step = 0.01),\n",
    "                         np.arange(start = -0.05, stop = 1.05, step = 0.01))\n",
    "    plt.xlim(X1.min(), X1.max())\n",
    "    plt.ylim(X2.min(), X2.max())\n",
    "\n",
    "    for i, j in enumerate(np.unique(y_set)):\n",
    "        if i != target:\n",
    "            continue\n",
    "        plt.scatter(X_set[y_set == j, 0], X_set[y_set == j, 1],\n",
    "                    s = 30,\n",
    "                    c = 'black',\n",
    "                    marker = '+',\n",
    "                    linewidths = 0.5)\n",
    "\n",
    "    plt.xlabel('Cosine similarity', labelpad=10)\n",
    "    plt.ylabel('Dependency similarity', labelpad=10)\n",
    "    plt.xticks([0.0, 0.25, 0.5, 0.75, 1])\n",
    "    plt.yticks([0.0, 0.25, 0.5, 0.75, 1])\n",
    "    plt.gca().set_aspect('equal')\n",
    "    plt.savefig(path, bbox_inches='tight')\n",
    "    plt.show()"
   ]
  },
  {
   "cell_type": "code",
   "execution_count": 41,
   "id": "b40dc0bd",
   "metadata": {},
   "outputs": [
    {
     "data": {
      "image/png": "[encoded data removed]",
      "text/plain": [
       "<Figure size 432x288 with 1 Axes>"
      ]
     },
     "metadata": {
      "needs_background": "light"
     },
     "output_type": "display_data"
    },
    {
     "data": {
      "image/png": "[encoded data removed]",
      "text/plain": [
       "<Figure size 432x288 with 1 Axes>"
      ]
     },
     "metadata": {
      "needs_background": "light"
     },
     "output_type": "display_data"
    }
   ],
   "source": [
    "visualise_sims(vectors_sicknl_train.copy(), gold_sicknl_train, 1, 'sicknl_train_y.pdf')\n",
    "visualise_sims(vectors_rte3_train.copy(), gold_rte3_train, 1, 'rte3_train_y.pdf')"
   ]
  },
  {
   "cell_type": "code",
   "execution_count": 42,
   "id": "371a1fe9",
   "metadata": {},
   "outputs": [
    {
     "data": {
      "image/png": "[encoded data removed]",
      "text/plain": [
       "<Figure size 432x288 with 1 Axes>"
      ]
     },
     "metadata": {
      "needs_background": "light"
     },
     "output_type": "display_data"
    },
    {
     "data": {
      "image/png": "[encoded data removed]",
      "text/plain": [
       "<Figure size 432x288 with 1 Axes>"
      ]
     },
     "metadata": {
      "needs_background": "light"
     },
     "output_type": "display_data"
    }
   ],
   "source": [
    "visualise_sims(vectors_sicknl_train.copy(), gold_sicknl_train, 0, 'sicknl_train_n.pdf')\n",
    "visualise_sims(vectors_rte3_train.copy(), gold_rte3_train, 0, 'rte3_train_n.pdf')"
   ]
  }
 ],
 "metadata": {
  "kernelspec": {
   "display_name": "Python 3 (ipykernel)",
   "language": "python",
   "name": "python3"
  },
  "language_info": {
   "codemirror_mode": {
    "name": "ipython",
    "version": 3
   },
   "file_extension": ".py",
   "mimetype": "text/x-python",
   "name": "python",
   "nbconvert_exporter": "python",
   "pygments_lexer": "ipython3",
   "version": "3.8.10"
  }
 },
 "nbformat": 4,
 "nbformat_minor": 5
}
