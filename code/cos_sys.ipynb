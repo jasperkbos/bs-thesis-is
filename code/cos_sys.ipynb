{
 "cells": [
  {
   "cell_type": "markdown",
   "id": "d89524d0",
   "metadata": {},
   "source": [
    "# Developing the cosine-based systems"
   ]
  },
  {
   "cell_type": "code",
   "execution_count": 1,
   "id": "95f7e15e",
   "metadata": {},
   "outputs": [],
   "source": [
    "from sklearn import preprocessing\n",
    "\n",
    "\n",
    "def predict(inference_dict, threshold):\n",
    "    \"\"\"\n",
    "    Calculates cosine similarity.\n",
    "    \n",
    "    :param inference_dict: inference dict to develop or test on\n",
    "    :param threshold: threshold above which pairs are labaled as entailment\n",
    "    return: list of predicted labels and list of gold labels\n",
    "    \"\"\"\n",
    "    pred, gold = [], []\n",
    "    for feats in inference_dict.values():\n",
    "        t_tokens = feats['t'].split()\n",
    "        h_tokens = feats['h'].split()\n",
    "\n",
    "        # Convert e.g. 'volleybal' in t to 'bal' in t if 'bal' in h\n",
    "        for h_token in h_tokens:\n",
    "            for i, t_token in enumerate(t_tokens):\n",
    "                if h_token != t_token and h_token in t_token:\n",
    "                    t_tokens[i] = h_token\n",
    "            \n",
    "        # Create BoW\n",
    "        th_tokens = set(t_tokens + h_tokens)\n",
    "        t_vector = [t_tokens.count(th_token) for th_token in th_tokens]\n",
    "        h_vector = [h_tokens.count(th_token) for th_token in th_tokens]\n",
    "        t_vector = preprocessing.normalize([t_vector], norm='l2')\n",
    "        h_vector = preprocessing.normalize([h_vector], norm='l2')\n",
    "            \n",
    "        # Calculate cosine similarity\n",
    "        cosim = round(cosine_similarity(t_vector, h_vector).item(), 3)\n",
    "        if ('geen' in t_tokens or 'niet' in t_tokens) and not \\\n",
    "          ('geen' in h_tokens or 'niet' in h_tokens) or \\\n",
    "          ('geen' in h_tokens or 'niet' in h_tokens) and not \\\n",
    "          ('geen' in t_tokens or 'niet' in t_tokens):\n",
    "            cosim = 0\n",
    "            \n",
    "        # Make prediction\n",
    "        if cosim >= threshold:\n",
    "            pred.append(\"YES\")\n",
    "        else:\n",
    "            pred.append(\"NO\")\n",
    "        gold.append(feats['entailment_label'])\n",
    "        \n",
    "    return pred, gold"
   ]
  },
  {
   "cell_type": "code",
   "execution_count": 2,
   "id": "589d01f7",
   "metadata": {},
   "outputs": [],
   "source": [
    "import sys\n",
    "import numpy as np\n",
    "from sklearn.metrics.pairwise import cosine_similarity\n",
    "from sklearn.metrics import accuracy_score\n",
    "from sklearn.metrics import f1_score\n",
    "\n",
    "\n",
    "def dev(dev_dict):\n",
    "    \"\"\"\n",
    "    Reports accuracy on different thresholds for the cosine similarity on a dev set.\n",
    "    \n",
    "    :param dev_dict: inference dict to develop on\n",
    "    :return: threshold where accuracy is highest and the corresponding accuracy\n",
    "    \"\"\"\n",
    "    \n",
    "    print(\"{:<15}{:<15}{}\".format('threshold', 'accuracy', 'F1 (macro-averaged)'), file=sys.stderr)\n",
    "    # Enter dev loop\n",
    "    max_accuracy = 0\n",
    "    for threshold in np.arange(0.00, 1.02, 0.01):\n",
    "        threshold = round(threshold, 2)\n",
    "        \n",
    "        pred, gold = predict(dev_dict, threshold)\n",
    "            \n",
    "        accuracy = round(accuracy_score(gold, pred), 3)\n",
    "        f1 = round(f1_score(gold, pred, average='macro'), 3)\n",
    "        if accuracy > max_accuracy or (accuracy == max_accuracy) and (f1 > max_f1):\n",
    "            max_accuracy = accuracy\n",
    "            max_f1 = f1\n",
    "            optimal_threshold = threshold\n",
    "\n",
    "        print(\"{:<15}{:<15}{}\".format(threshold, accuracy, f1), file=sys.stderr)\n",
    "        \n",
    "    return optimal_threshold, max_accuracy"
   ]
  },
  {
   "cell_type": "code",
   "execution_count": 3,
   "id": "a0f2e261",
   "metadata": {},
   "outputs": [],
   "source": [
    "from sklearn.metrics import classification_report\n",
    "\n",
    "def evaluate(threshold, test_dict, extended=False):\n",
    "    \"\"\"\n",
    "    Reports metrics of a given threshold for the cosine similarity on an inference test set.\n",
    "    \n",
    "    :param threshold: threshold above which pairs are labaled as entailment\n",
    "    :param test_dict: dict to evaluate on\n",
    "    :param extended: prints accuracy if False, full report if True\n",
    "    \"\"\"\n",
    "    \n",
    "    pred, gold = predict(test_dict, threshold)\n",
    "    pred_yes = pred_no = 0\n",
    "    for i in pred:\n",
    "        if i == 'YES':\n",
    "            pred_yes += 1\n",
    "        else:\n",
    "            pred_no += 1\n",
    "    print(\"# of pairs predicted positive and negative respectively: \", pred_yes, \",\", pred_no)\n",
    "\n",
    "    if not extended:\n",
    "        print(\"{:<15}{}\".format('accuracy', 'F1 (macro-averaged)'))\n",
    "        print(\"{:<15}{}\".format(round(accuracy_score(gold, pred), 3), round(f1_score(gold, pred, average='macro'), 3)))\n",
    "    else:\n",
    "        print(classification_report(gold, pred, digits=3))"
   ]
  },
  {
   "cell_type": "markdown",
   "id": "7054bd65",
   "metadata": {},
   "source": [
    "## Preprocessing SICK-NL and RTE-3\n",
    "As performed by the `preprocess` function."
   ]
  },
  {
   "cell_type": "code",
   "execution_count": 4,
   "id": "8ca9ef8d",
   "metadata": {},
   "outputs": [],
   "source": [
    "def preprocess(doc, nlp):\n",
    "    \"\"\"\n",
    "    Removes punctuation and stopwords and lemmatises words.\n",
    "\n",
    "    :param doc: document string\n",
    "    :param nlp: SpaCy pipeline\n",
    "    :return: the preprocessed document\n",
    "    \"\"\"\n",
    "    \n",
    "    nlp.Defaults.stop_words -= {\"geen\", \"niet\"}\n",
    "    doc = nlp(doc)\n",
    "    cleaned = []\n",
    "    for token in doc:\n",
    "        if not token.is_punct and token.lemma_ not in nlp.Defaults.stop_words:\n",
    "            cleaned.append(token.lemma_)\n",
    "    return \" \".join(cleaned)"
   ]
  },
  {
   "cell_type": "code",
   "execution_count": 5,
   "id": "2b106885",
   "metadata": {},
   "outputs": [],
   "source": [
    "import pickle\n",
    "import spacy\n",
    "\n",
    "nlp = spacy.load('nl_core_news_lg')"
   ]
  },
  {
   "cell_type": "markdown",
   "id": "75fd01bb",
   "metadata": {},
   "source": [
    "### Preprocessing SICK-NL"
   ]
  },
  {
   "cell_type": "code",
   "execution_count": 6,
   "id": "5ebfa5d7",
   "metadata": {},
   "outputs": [],
   "source": [
    "dev_dict_sicknl = pickle.load(open(\"../data/sicknl/dev.p\", \"rb\"))\n",
    "test_dict_sicknl = pickle.load(open(\"../data/sicknl/test.p\", \"rb\"))\n",
    "\n",
    "for pair_id, feats in dev_dict_sicknl.items():\n",
    "    dev_dict_sicknl[pair_id]['t'] = preprocess(feats['t'], nlp)\n",
    "    dev_dict_sicknl[pair_id]['h'] = preprocess(feats['h'], nlp)\n",
    "    \n",
    "for pair_id, feats in test_dict_sicknl.items():\n",
    "    test_dict_sicknl[pair_id]['t'] = preprocess(feats['t'], nlp)\n",
    "    test_dict_sicknl[pair_id]['h'] = preprocess(feats['h'], nlp)"
   ]
  },
  {
   "cell_type": "markdown",
   "id": "b399e1e2",
   "metadata": {},
   "source": [
    "### Preprocessing RTE-3"
   ]
  },
  {
   "cell_type": "code",
   "execution_count": 7,
   "id": "ae8e998f",
   "metadata": {},
   "outputs": [],
   "source": [
    "dev_dict_rte3 = pickle.load(open(\"../data/rte3/dev.p\", \"rb\"))\n",
    "test_dict_rte3 = pickle.load(open(\"../data/rte3/test.p\", \"rb\"))\n",
    "\n",
    "for pair_id, feats in dev_dict_rte3.items():\n",
    "    dev_dict_rte3[pair_id]['t'] = preprocess(feats['t'], nlp)\n",
    "    dev_dict_rte3[pair_id]['h'] = preprocess(feats['h'], nlp)\n",
    "    \n",
    "for pair_id, feats in test_dict_rte3.items():\n",
    "    test_dict_rte3[pair_id]['t'] = preprocess(feats['t'], nlp)\n",
    "    test_dict_rte3[pair_id]['h'] = preprocess(feats['h'], nlp)"
   ]
  },
  {
   "cell_type": "markdown",
   "id": "e172a1b6",
   "metadata": {},
   "source": [
    "### Merging SICK-NL and RTE-3"
   ]
  },
  {
   "cell_type": "code",
   "execution_count": 8,
   "id": "2c4de274",
   "metadata": {},
   "outputs": [],
   "source": [
    "# Handle conflicting keys\n",
    "dev_dict_merged = dict()\n",
    "length = 0\n",
    "for feats in dev_dict_rte3.values():\n",
    "    dev_dict_merged[length+1] = feats\n",
    "    length += 1\n",
    "for feats in dev_dict_sicknl.values():\n",
    "    dev_dict_merged[length+1] = feats\n",
    "    length += 1\n",
    "\n",
    "# Handle conflicting keys\n",
    "test_dict_merged = dict()\n",
    "length = 0\n",
    "for feats in test_dict_rte3.values():\n",
    "    test_dict_merged[length+1] = feats\n",
    "    length += 1\n",
    "for feats in test_dict_sicknl.values():\n",
    "    test_dict_merged[length+1] = feats\n",
    "    length += 1"
   ]
  },
  {
   "cell_type": "markdown",
   "id": "aaf647c7",
   "metadata": {},
   "source": [
    "## Developing on SICK-NL"
   ]
  },
  {
   "cell_type": "code",
   "execution_count": 9,
   "id": "f61458e8",
   "metadata": {
    "scrolled": true
   },
   "outputs": [
    {
     "name": "stderr",
     "output_type": "stream",
     "text": [
      "threshold      accuracy       F1 (macro-averaged)\n",
      "0.0            0.5            0.333\n",
      "0.01           0.626          0.571\n",
      "0.02           0.626          0.571\n",
      "0.03           0.626          0.571\n",
      "0.04           0.626          0.571\n",
      "0.05           0.626          0.571\n",
      "0.06           0.626          0.571\n",
      "0.07           0.626          0.571\n",
      "0.08           0.626          0.571\n",
      "0.09           0.626          0.571\n",
      "0.1            0.626          0.571\n",
      "0.11           0.627          0.572\n",
      "0.12           0.628          0.573\n",
      "0.13           0.629          0.575\n",
      "0.14           0.629          0.575\n",
      "0.15           0.632          0.58\n",
      "0.16           0.634          0.584\n",
      "0.17           0.639          0.591\n",
      "0.18           0.641          0.594\n",
      "0.19           0.651          0.608\n",
      "0.2            0.651          0.608\n",
      "0.21           0.66           0.621\n",
      "0.22           0.66           0.622\n",
      "0.23           0.671          0.638\n",
      "0.24           0.675          0.643\n",
      "0.25           0.675          0.644\n",
      "0.26           0.69           0.665\n",
      "0.27           0.691          0.666\n",
      "0.28           0.691          0.667\n",
      "0.29           0.71           0.691\n",
      "0.3            0.711          0.693\n",
      "0.31           0.716          0.699\n",
      "0.32           0.719          0.703\n",
      "0.33           0.72           0.704\n",
      "0.34           0.735          0.724\n",
      "0.35           0.735          0.724\n",
      "0.36           0.738          0.728\n",
      "0.37           0.743          0.734\n",
      "0.38           0.746          0.737\n",
      "0.39           0.745          0.737\n",
      "0.4            0.746          0.738\n",
      "0.41           0.754          0.748\n",
      "0.42           0.754          0.749\n",
      "0.43           0.756          0.751\n",
      "0.44           0.759          0.754\n",
      "0.45           0.764          0.761\n",
      "0.46           0.765          0.761\n",
      "0.47           0.767          0.764\n",
      "0.48           0.769          0.766\n",
      "0.49           0.769          0.766\n",
      "0.5            0.769          0.766\n",
      "0.51           0.776          0.775\n",
      "0.52           0.777          0.776\n",
      "0.53           0.777          0.776\n",
      "0.54           0.779          0.778\n",
      "0.55           0.782          0.781\n",
      "0.56           0.782          0.781\n",
      "0.57           0.783          0.782\n",
      "0.58           0.78           0.78\n",
      "0.59           0.78           0.78\n",
      "0.6            0.78           0.78\n",
      "0.61           0.783          0.783\n",
      "0.62           0.784          0.784\n",
      "0.63           0.785          0.785\n",
      "0.64           0.784          0.784\n",
      "0.65           0.785          0.785\n",
      "0.66           0.785          0.785\n",
      "0.67           0.76           0.757\n",
      "0.68           0.752          0.747\n",
      "0.69           0.751          0.747\n",
      "0.7            0.751          0.747\n",
      "0.71           0.747          0.743\n",
      "0.72           0.747          0.742\n",
      "0.73           0.745          0.74\n",
      "0.74           0.742          0.736\n",
      "0.75           0.742          0.736\n",
      "0.76           0.722          0.711\n",
      "0.77           0.722          0.711\n",
      "0.78           0.712          0.698\n",
      "0.79           0.711          0.698\n",
      "0.8            0.711          0.697\n",
      "0.81           0.7            0.681\n",
      "0.82           0.685          0.662\n",
      "0.83           0.684          0.66\n",
      "0.84           0.681          0.654\n",
      "0.85           0.679          0.65\n",
      "0.86           0.676          0.645\n",
      "0.87           0.644          0.6\n",
      "0.88           0.644          0.598\n",
      "0.89           0.642          0.595\n",
      "0.9            0.622          0.565\n",
      "0.91           0.62           0.562\n",
      "0.92           0.61           0.546\n",
      "0.93           0.603          0.534\n",
      "0.94           0.597          0.525\n",
      "0.95           0.593          0.517\n",
      "0.96           0.592          0.516\n",
      "0.97           0.592          0.515\n",
      "0.98           0.592          0.515\n",
      "0.99           0.592          0.515\n",
      "1.0            0.592          0.515\n",
      "1.01           0.5            0.333\n"
     ]
    }
   ],
   "source": [
    "threshold, accuracy = dev(dev_dict_sicknl)"
   ]
  },
  {
   "cell_type": "code",
   "execution_count": 10,
   "id": "fde5d0b4",
   "metadata": {},
   "outputs": [
    {
     "name": "stdout",
     "output_type": "stream",
     "text": [
      "Optimal threshold:  0.63\n",
      "Highest accuracy:  0.785\n"
     ]
    }
   ],
   "source": [
    "print('Optimal threshold: ', threshold)\n",
    "print('Highest accuracy: ', accuracy)"
   ]
  },
  {
   "cell_type": "markdown",
   "id": "78a6d9a8",
   "metadata": {},
   "source": [
    "### Evaluating on SICK-NL"
   ]
  },
  {
   "cell_type": "code",
   "execution_count": 11,
   "id": "ee4aa407",
   "metadata": {},
   "outputs": [
    {
     "name": "stdout",
     "output_type": "stream",
     "text": [
      "# of pairs predicted positive and negative respectively:  549 , 579\n",
      "              precision    recall  f1-score   support\n",
      "\n",
      "          NO      0.756     0.777     0.766       564\n",
      "         YES      0.770     0.750     0.760       564\n",
      "\n",
      "    accuracy                          0.763      1128\n",
      "   macro avg      0.763     0.763     0.763      1128\n",
      "weighted avg      0.763     0.763     0.763      1128\n",
      "\n"
     ]
    }
   ],
   "source": [
    "evaluate(threshold, test_dict_sicknl, extended=True)"
   ]
  },
  {
   "cell_type": "markdown",
   "id": "518077b2",
   "metadata": {},
   "source": [
    "### Evaluating on RTE-3"
   ]
  },
  {
   "cell_type": "code",
   "execution_count": 12,
   "id": "73b483ab",
   "metadata": {},
   "outputs": [
    {
     "name": "stdout",
     "output_type": "stream",
     "text": [
      "# of pairs predicted positive and negative respectively:  21 , 291\n",
      "accuracy       F1 (macro-averaged)\n",
      "0.542          0.436\n"
     ]
    }
   ],
   "source": [
    "evaluate(threshold, test_dict_rte3)"
   ]
  },
  {
   "cell_type": "markdown",
   "id": "a9e74839",
   "metadata": {},
   "source": [
    "### Evaluating on SICK-NL ∪ RTE-3"
   ]
  },
  {
   "cell_type": "code",
   "execution_count": 13,
   "id": "1dec0503",
   "metadata": {},
   "outputs": [
    {
     "name": "stdout",
     "output_type": "stream",
     "text": [
      "# of pairs predicted positive and negative respectively:  570 , 870\n",
      "accuracy       F1 (macro-averaged)\n",
      "0.715          0.712\n"
     ]
    }
   ],
   "source": [
    "evaluate(threshold, test_dict_merged)"
   ]
  },
  {
   "cell_type": "markdown",
   "id": "527a4031",
   "metadata": {},
   "source": [
    "## Developing on RTE-3"
   ]
  },
  {
   "cell_type": "code",
   "execution_count": 14,
   "id": "2c080a69",
   "metadata": {
    "scrolled": true
   },
   "outputs": [
    {
     "name": "stderr",
     "output_type": "stream",
     "text": [
      "threshold      accuracy       F1 (macro-averaged)\n",
      "0.0            0.5            0.333\n",
      "0.01           0.53           0.452\n",
      "0.02           0.53           0.452\n",
      "0.03           0.53           0.452\n",
      "0.04           0.53           0.452\n",
      "0.05           0.53           0.452\n",
      "0.06           0.53           0.452\n",
      "0.07           0.531          0.455\n",
      "0.08           0.534          0.46\n",
      "0.09           0.541          0.47\n",
      "0.1            0.541          0.473\n",
      "0.11           0.553          0.493\n",
      "0.12           0.562          0.508\n",
      "0.13           0.565          0.516\n",
      "0.14           0.57           0.525\n",
      "0.15           0.573          0.531\n",
      "0.16           0.579          0.54\n",
      "0.17           0.586          0.55\n",
      "0.18           0.588          0.557\n",
      "0.19           0.588          0.559\n",
      "0.2            0.595          0.569\n",
      "0.21           0.6            0.577\n",
      "0.22           0.607          0.588\n",
      "0.23           0.622          0.607\n",
      "0.24           0.627          0.613\n",
      "0.25           0.636          0.625\n",
      "0.26           0.635          0.626\n",
      "0.27           0.636          0.63\n",
      "0.28           0.634          0.629\n",
      "0.29           0.637          0.634\n",
      "0.3            0.636          0.633\n",
      "0.31           0.633          0.631\n",
      "0.32           0.632          0.631\n",
      "0.33           0.632          0.632\n",
      "0.34           0.629          0.629\n",
      "0.35           0.629          0.629\n",
      "0.36           0.637          0.637\n",
      "0.37           0.635          0.635\n",
      "0.38           0.627          0.626\n",
      "0.39           0.619          0.617\n",
      "0.4            0.621          0.619\n",
      "0.41           0.609          0.606\n",
      "0.42           0.606          0.601\n",
      "0.43           0.605          0.597\n",
      "0.44           0.602          0.591\n",
      "0.45           0.599          0.586\n",
      "0.46           0.595          0.581\n",
      "0.47           0.585          0.568\n",
      "0.48           0.58           0.56\n",
      "0.49           0.579          0.556\n",
      "0.5            0.58           0.556\n",
      "0.51           0.569          0.537\n",
      "0.52           0.561          0.523\n",
      "0.53           0.559          0.516\n",
      "0.54           0.55           0.501\n",
      "0.55           0.548          0.494\n",
      "0.56           0.548          0.492\n",
      "0.57           0.547          0.488\n",
      "0.58           0.542          0.474\n",
      "0.59           0.536          0.461\n",
      "0.6            0.53           0.449\n",
      "0.61           0.524          0.436\n",
      "0.62           0.517          0.422\n",
      "0.63           0.515          0.416\n",
      "0.64           0.514          0.409\n",
      "0.65           0.514          0.404\n",
      "0.66           0.513          0.396\n",
      "0.67           0.509          0.386\n",
      "0.68           0.509          0.383\n",
      "0.69           0.509          0.379\n",
      "0.7            0.508          0.377\n",
      "0.71           0.508          0.369\n",
      "0.72           0.508          0.367\n",
      "0.73           0.508          0.367\n",
      "0.74           0.504          0.36\n",
      "0.75           0.504          0.36\n",
      "0.76           0.506          0.358\n",
      "0.77           0.508          0.359\n",
      "0.78           0.504          0.352\n",
      "0.79           0.505          0.351\n",
      "0.8            0.505          0.349\n",
      "0.81           0.504          0.346\n",
      "0.82           0.503          0.344\n",
      "0.83           0.503          0.344\n",
      "0.84           0.501          0.339\n",
      "0.85           0.501          0.339\n",
      "0.86           0.501          0.339\n",
      "0.87           0.501          0.339\n",
      "0.88           0.501          0.339\n",
      "0.89           0.5            0.337\n",
      "0.9            0.5            0.337\n",
      "0.91           0.5            0.335\n",
      "0.92           0.501          0.336\n",
      "0.93           0.5            0.333\n",
      "0.94           0.5            0.333\n",
      "0.95           0.5            0.333\n",
      "0.96           0.5            0.333\n",
      "0.97           0.5            0.333\n",
      "0.98           0.5            0.333\n",
      "0.99           0.5            0.333\n",
      "1.0            0.5            0.333\n",
      "1.01           0.5            0.333\n"
     ]
    }
   ],
   "source": [
    "threshold, accuracy = dev(dev_dict_rte3)"
   ]
  },
  {
   "cell_type": "code",
   "execution_count": 15,
   "id": "ef74e7f7",
   "metadata": {},
   "outputs": [
    {
     "name": "stdout",
     "output_type": "stream",
     "text": [
      "Optimal threshold:  0.36\n",
      "Highest accuracy:  0.637\n"
     ]
    }
   ],
   "source": [
    "print('Optimal threshold: ', threshold)\n",
    "print('Highest accuracy: ', accuracy)"
   ]
  },
  {
   "cell_type": "markdown",
   "id": "84e68a45",
   "metadata": {},
   "source": [
    "### Evaluating on SICK-NL"
   ]
  },
  {
   "cell_type": "code",
   "execution_count": 16,
   "id": "365d3af7",
   "metadata": {},
   "outputs": [
    {
     "name": "stdout",
     "output_type": "stream",
     "text": [
      "# of pairs predicted positive and negative respectively:  804 , 324\n",
      "accuracy       F1 (macro-averaged)\n",
      "0.725          0.712\n"
     ]
    }
   ],
   "source": [
    "evaluate(threshold, test_dict_sicknl)"
   ]
  },
  {
   "cell_type": "markdown",
   "id": "6a4cd3e1",
   "metadata": {},
   "source": [
    "### Evaluating on RTE-3"
   ]
  },
  {
   "cell_type": "code",
   "execution_count": 17,
   "id": "76f1d4cd",
   "metadata": {},
   "outputs": [
    {
     "name": "stdout",
     "output_type": "stream",
     "text": [
      "# of pairs predicted positive and negative respectively:  138 , 174\n",
      "              precision    recall  f1-score   support\n",
      "\n",
      "          NO      0.615     0.686     0.648       156\n",
      "         YES      0.645     0.571     0.605       156\n",
      "\n",
      "    accuracy                          0.628       312\n",
      "   macro avg      0.630     0.628     0.627       312\n",
      "weighted avg      0.630     0.628     0.627       312\n",
      "\n"
     ]
    }
   ],
   "source": [
    "evaluate(threshold, test_dict_rte3, extended=True)"
   ]
  },
  {
   "cell_type": "markdown",
   "id": "72c89426",
   "metadata": {},
   "source": [
    "### Evaluating on SICK-NL ∪ RTE-3"
   ]
  },
  {
   "cell_type": "code",
   "execution_count": 18,
   "id": "56f2a88a",
   "metadata": {},
   "outputs": [
    {
     "name": "stdout",
     "output_type": "stream",
     "text": [
      "# of pairs predicted positive and negative respectively:  942 , 498\n",
      "accuracy       F1 (macro-averaged)\n",
      "0.704          0.697\n"
     ]
    }
   ],
   "source": [
    "evaluate(threshold, test_dict_merged)"
   ]
  },
  {
   "cell_type": "markdown",
   "id": "54582c3a",
   "metadata": {},
   "source": [
    "## Developing on SICK-NL ∪ RTE-3"
   ]
  },
  {
   "cell_type": "code",
   "execution_count": 19,
   "id": "cb335063",
   "metadata": {
    "scrolled": true
   },
   "outputs": [
    {
     "name": "stderr",
     "output_type": "stream",
     "text": [
      "threshold      accuracy       F1 (macro-averaged)\n",
      "0.0            0.5            0.333\n",
      "0.01           0.605          0.545\n",
      "0.02           0.605          0.545\n",
      "0.03           0.605          0.545\n",
      "0.04           0.605          0.545\n",
      "0.05           0.605          0.545\n",
      "0.06           0.605          0.545\n",
      "0.07           0.606          0.546\n",
      "0.08           0.606          0.547\n",
      "0.09           0.608          0.549\n",
      "0.1            0.608          0.55\n",
      "0.11           0.611          0.555\n",
      "0.12           0.614          0.559\n",
      "0.13           0.615          0.562\n",
      "0.14           0.616          0.564\n",
      "0.15           0.619          0.57\n",
      "0.16           0.623          0.574\n",
      "0.17           0.628          0.582\n",
      "0.18           0.63           0.586\n",
      "0.19           0.638          0.598\n",
      "0.2            0.639          0.6\n",
      "0.21           0.647          0.612\n",
      "0.22           0.649          0.615\n",
      "0.23           0.66           0.632\n",
      "0.24           0.664          0.637\n",
      "0.25           0.667          0.641\n",
      "0.26           0.678          0.657\n",
      "0.27           0.679          0.659\n",
      "0.28           0.679          0.66\n",
      "0.29           0.694          0.68\n",
      "0.3            0.695          0.681\n",
      "0.31           0.698          0.685\n",
      "0.32           0.7            0.689\n",
      "0.33           0.701          0.69\n",
      "0.34           0.712          0.704\n",
      "0.35           0.712          0.705\n",
      "0.36           0.717          0.71\n",
      "0.37           0.72           0.714\n",
      "0.38           0.72           0.715\n",
      "0.39           0.718          0.714\n",
      "0.4            0.719          0.715\n",
      "0.41           0.723          0.72\n",
      "0.42           0.722          0.72\n",
      "0.43           0.723          0.722\n",
      "0.44           0.725          0.724\n",
      "0.45           0.729          0.728\n",
      "0.46           0.728          0.727\n",
      "0.47           0.728          0.727\n",
      "0.48           0.728          0.728\n",
      "0.49           0.728          0.727\n",
      "0.5            0.728          0.728\n",
      "0.51           0.731          0.731\n",
      "0.52           0.73           0.73\n",
      "0.53           0.73           0.73\n",
      "0.54           0.73           0.73\n",
      "0.55           0.731          0.731\n",
      "0.56           0.732          0.731\n",
      "0.57           0.732          0.731\n",
      "0.58           0.728          0.727\n",
      "0.59           0.727          0.726\n",
      "0.6            0.726          0.724\n",
      "0.61           0.727          0.725\n",
      "0.62           0.727          0.724\n",
      "0.63           0.726          0.724\n",
      "0.64           0.726          0.723\n",
      "0.65           0.726          0.723\n",
      "0.66           0.726          0.722\n",
      "0.67           0.706          0.696\n",
      "0.68           0.699          0.687\n",
      "0.69           0.699          0.686\n",
      "0.7            0.699          0.686\n",
      "0.71           0.696          0.682\n",
      "0.72           0.695          0.681\n",
      "0.73           0.694          0.679\n",
      "0.74           0.691          0.675\n",
      "0.75           0.691          0.675\n",
      "0.76           0.675          0.652\n",
      "0.77           0.676          0.653\n",
      "0.78           0.667          0.641\n",
      "0.79           0.667          0.641\n",
      "0.8            0.667          0.64\n",
      "0.81           0.658          0.625\n",
      "0.82           0.646          0.608\n",
      "0.83           0.645          0.606\n",
      "0.84           0.642          0.599\n",
      "0.85           0.64           0.596\n",
      "0.86           0.638          0.591\n",
      "0.87           0.613          0.553\n",
      "0.88           0.613          0.551\n",
      "0.89           0.612          0.548\n",
      "0.9            0.596          0.523\n",
      "0.91           0.594          0.52\n",
      "0.92           0.587          0.507\n",
      "0.93           0.581          0.496\n",
      "0.94           0.576          0.488\n",
      "0.95           0.573          0.482\n",
      "0.96           0.572          0.481\n",
      "0.97           0.572          0.48\n",
      "0.98           0.572          0.48\n",
      "0.99           0.572          0.48\n",
      "1.0            0.572          0.48\n",
      "1.01           0.5            0.333\n"
     ]
    }
   ],
   "source": [
    "threshold, accuracy = dev(dev_dict_merged)"
   ]
  },
  {
   "cell_type": "code",
   "execution_count": 20,
   "id": "bee47965",
   "metadata": {},
   "outputs": [
    {
     "name": "stdout",
     "output_type": "stream",
     "text": [
      "Optimal threshold:  0.56\n",
      "Highest accuracy:  0.732\n"
     ]
    }
   ],
   "source": [
    "print('Optimal threshold: ', threshold)\n",
    "print('Highest accuracy: ', accuracy)"
   ]
  },
  {
   "cell_type": "markdown",
   "id": "0f4bd121",
   "metadata": {},
   "source": [
    "### Evaluating on SICK-NL"
   ]
  },
  {
   "cell_type": "code",
   "execution_count": 21,
   "id": "ac58458a",
   "metadata": {},
   "outputs": [
    {
     "name": "stdout",
     "output_type": "stream",
     "text": [
      "# of pairs predicted positive and negative respectively:  628 , 500\n",
      "accuracy       F1 (macro-averaged)\n",
      "0.775          0.774\n"
     ]
    }
   ],
   "source": [
    "evaluate(threshold, test_dict_sicknl)"
   ]
  },
  {
   "cell_type": "markdown",
   "id": "02f86efc",
   "metadata": {},
   "source": [
    "### Evaluating on RTE-3"
   ]
  },
  {
   "cell_type": "code",
   "execution_count": 22,
   "id": "6f14c782",
   "metadata": {},
   "outputs": [
    {
     "name": "stdout",
     "output_type": "stream",
     "text": [
      "# of pairs predicted positive and negative respectively:  32 , 280\n",
      "accuracy       F1 (macro-averaged)\n",
      "0.532          0.444\n"
     ]
    }
   ],
   "source": [
    "evaluate(threshold, test_dict_rte3)"
   ]
  },
  {
   "cell_type": "markdown",
   "id": "a99d4656",
   "metadata": {},
   "source": [
    "### Evaluating on SICK-NL ∪ RTE-3"
   ]
  },
  {
   "cell_type": "code",
   "execution_count": 23,
   "id": "f850f8b5",
   "metadata": {},
   "outputs": [
    {
     "name": "stdout",
     "output_type": "stream",
     "text": [
      "# of pairs predicted positive and negative respectively:  660 , 780\n",
      "              precision    recall  f1-score   support\n",
      "\n",
      "          NO      0.705     0.764     0.733       720\n",
      "         YES      0.742     0.681     0.710       720\n",
      "\n",
      "    accuracy                          0.722      1440\n",
      "   macro avg      0.724     0.722     0.722      1440\n",
      "weighted avg      0.724     0.722     0.722      1440\n",
      "\n"
     ]
    }
   ],
   "source": [
    "evaluate(threshold, test_dict_merged, extended=True)"
   ]
  }
 ],
 "metadata": {
  "kernelspec": {
   "display_name": "Python 3 (ipykernel)",
   "language": "python",
   "name": "python3"
  },
  "language_info": {
   "codemirror_mode": {
    "name": "ipython",
    "version": 3
   },
   "file_extension": ".py",
   "mimetype": "text/x-python",
   "name": "python",
   "nbconvert_exporter": "python",
   "pygments_lexer": "ipython3",
   "version": "3.8.10"
  }
 },
 "nbformat": 4,
 "nbformat_minor": 5
}
